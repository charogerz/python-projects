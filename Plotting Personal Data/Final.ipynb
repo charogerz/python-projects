{
 "cells": [
  {
   "cell_type": "markdown",
   "metadata": {},
   "source": [
    "FINAL PROJECT - AMAZON DATA\n",
    "Charlotte Rogers"
   ]
  },
  {
   "cell_type": "code",
   "execution_count": 1,
   "metadata": {},
   "outputs": [],
   "source": [
    "import matplotlib.pyplot as plt \n",
    "import numpy as np\n",
    "import pandas as pd"
   ]
  },
  {
   "cell_type": "code",
   "execution_count": 2,
   "metadata": {},
   "outputs": [],
   "source": [
    "df = pd.read_csv('Retail.OrderHistory.1.csv', dtype=object)"
   ]
  },
  {
   "cell_type": "code",
   "execution_count": 3,
   "metadata": {},
   "outputs": [
    {
     "data": {
      "text/plain": [
       "['Website',\n",
       " 'Order ID',\n",
       " 'Order Date',\n",
       " 'Purchase Order Number',\n",
       " 'Currency',\n",
       " 'Unit Price',\n",
       " 'Unit Price Tax',\n",
       " 'Shipping Charge',\n",
       " 'Total Discounts',\n",
       " 'Total Owed',\n",
       " 'Shipment Item Subtotal',\n",
       " 'Shipment Item Subtotal Tax',\n",
       " 'ASIN',\n",
       " 'Product Condition',\n",
       " 'Quantity',\n",
       " 'Order Status',\n",
       " 'Shipment Status',\n",
       " 'Ship Date',\n",
       " 'Shipping Option',\n",
       " 'Carrier Name & Tracking Number',\n",
       " 'Product Name',\n",
       " 'Gift Message',\n",
       " 'Gift Sender Name',\n",
       " 'Gift Recipient Contact Details']"
      ]
     },
     "execution_count": 3,
     "metadata": {},
     "output_type": "execute_result"
    }
   ],
   "source": [
    "list(df)"
   ]
  },
  {
   "cell_type": "code",
   "execution_count": 4,
   "metadata": {},
   "outputs": [
    {
     "data": {
      "text/plain": [
       "(215, 24)"
      ]
     },
     "execution_count": 4,
     "metadata": {},
     "output_type": "execute_result"
    }
   ],
   "source": [
    "df.shape"
   ]
  },
  {
   "cell_type": "code",
   "execution_count": 5,
   "metadata": {},
   "outputs": [],
   "source": [
    "df = df.fillna(0)"
   ]
  },
  {
   "cell_type": "code",
   "execution_count": 6,
   "metadata": {},
   "outputs": [],
   "source": [
    "pd.set_option('display.max_columns', 27)"
   ]
  },
  {
   "cell_type": "code",
   "execution_count": 7,
   "metadata": {},
   "outputs": [
    {
     "data": {
      "text/html": [
       "<div>\n",
       "<style scoped>\n",
       "    .dataframe tbody tr th:only-of-type {\n",
       "        vertical-align: middle;\n",
       "    }\n",
       "\n",
       "    .dataframe tbody tr th {\n",
       "        vertical-align: top;\n",
       "    }\n",
       "\n",
       "    .dataframe thead th {\n",
       "        text-align: right;\n",
       "    }\n",
       "</style>\n",
       "<table border=\"1\" class=\"dataframe\">\n",
       "  <thead>\n",
       "    <tr style=\"text-align: right;\">\n",
       "      <th></th>\n",
       "      <th>Website</th>\n",
       "      <th>Order ID</th>\n",
       "      <th>Order Date</th>\n",
       "      <th>Purchase Order Number</th>\n",
       "      <th>Currency</th>\n",
       "      <th>Unit Price</th>\n",
       "      <th>Unit Price Tax</th>\n",
       "      <th>Shipping Charge</th>\n",
       "      <th>Total Discounts</th>\n",
       "      <th>Total Owed</th>\n",
       "      <th>Shipment Item Subtotal</th>\n",
       "      <th>Shipment Item Subtotal Tax</th>\n",
       "      <th>ASIN</th>\n",
       "      <th>Product Condition</th>\n",
       "      <th>Quantity</th>\n",
       "      <th>Order Status</th>\n",
       "      <th>Shipment Status</th>\n",
       "      <th>Ship Date</th>\n",
       "      <th>Shipping Option</th>\n",
       "      <th>Carrier Name &amp; Tracking Number</th>\n",
       "      <th>Product Name</th>\n",
       "      <th>Gift Message</th>\n",
       "      <th>Gift Sender Name</th>\n",
       "      <th>Gift Recipient Contact Details</th>\n",
       "    </tr>\n",
       "  </thead>\n",
       "  <tbody>\n",
       "    <tr>\n",
       "      <th>0</th>\n",
       "      <td>Amazon.com</td>\n",
       "      <td>113-6878423-2831408</td>\n",
       "      <td>2023-04-25T13:40:44.835z</td>\n",
       "      <td>Not Applicable</td>\n",
       "      <td>USD</td>\n",
       "      <td>14.12</td>\n",
       "      <td>0</td>\n",
       "      <td>6.99</td>\n",
       "      <td>0</td>\n",
       "      <td>21.11</td>\n",
       "      <td>Not Available</td>\n",
       "      <td>Not Available</td>\n",
       "      <td>B07LGVZ42S</td>\n",
       "      <td>New</td>\n",
       "      <td>1</td>\n",
       "      <td>Authorized</td>\n",
       "      <td>Not Available</td>\n",
       "      <td>Not Available</td>\n",
       "      <td>std-n-us</td>\n",
       "      <td>Not Available</td>\n",
       "      <td>Saucony Women's Performance Heel Tab Athletic ...</td>\n",
       "      <td>Not Available</td>\n",
       "      <td>Not Available</td>\n",
       "      <td>Not Available</td>\n",
       "    </tr>\n",
       "    <tr>\n",
       "      <th>1</th>\n",
       "      <td>Amazon.com</td>\n",
       "      <td>113-6732882-0977830</td>\n",
       "      <td>2023-04-23T14:27:15.0z</td>\n",
       "      <td>Not Applicable</td>\n",
       "      <td>USD</td>\n",
       "      <td>68.43</td>\n",
       "      <td>6.07</td>\n",
       "      <td>0</td>\n",
       "      <td>0</td>\n",
       "      <td>74.5</td>\n",
       "      <td>68.43</td>\n",
       "      <td>6.07</td>\n",
       "      <td>B007NX6LMI</td>\n",
       "      <td>Used</td>\n",
       "      <td>1</td>\n",
       "      <td>Closed</td>\n",
       "      <td>Shipped</td>\n",
       "      <td>2023-04-26T10:23:02Z</td>\n",
       "      <td>sss-us</td>\n",
       "      <td>AMZN_US(TBA306424722740)</td>\n",
       "      <td>SnapeZo Movie Poster Frame 27x41, Black, 1.25 ...</td>\n",
       "      <td>Not Available</td>\n",
       "      <td>Not Available</td>\n",
       "      <td>Not Available</td>\n",
       "    </tr>\n",
       "    <tr>\n",
       "      <th>2</th>\n",
       "      <td>Amazon.com</td>\n",
       "      <td>114-3612302-9099413</td>\n",
       "      <td>2023-04-20T00:29:05.0z</td>\n",
       "      <td>Not Applicable</td>\n",
       "      <td>USD</td>\n",
       "      <td>12.71</td>\n",
       "      <td>1.13</td>\n",
       "      <td>0</td>\n",
       "      <td>0</td>\n",
       "      <td>13.84</td>\n",
       "      <td>34.69</td>\n",
       "      <td>3.08</td>\n",
       "      <td>B07Y2V1HXV</td>\n",
       "      <td>New</td>\n",
       "      <td>1</td>\n",
       "      <td>Closed</td>\n",
       "      <td>Shipped</td>\n",
       "      <td>2023-04-22T08:49:26Z</td>\n",
       "      <td>sss-us</td>\n",
       "      <td>AMZN_US(TBA306363166884)</td>\n",
       "      <td>UK Ireland Travel Plug Adapter, TESSAN Type G ...</td>\n",
       "      <td>Not Available</td>\n",
       "      <td>Not Available</td>\n",
       "      <td>Not Available</td>\n",
       "    </tr>\n",
       "    <tr>\n",
       "      <th>3</th>\n",
       "      <td>Amazon.com</td>\n",
       "      <td>114-3612302-9099413</td>\n",
       "      <td>2023-04-20T00:29:05.0z</td>\n",
       "      <td>Not Applicable</td>\n",
       "      <td>USD</td>\n",
       "      <td>21.98</td>\n",
       "      <td>1.95</td>\n",
       "      <td>0</td>\n",
       "      <td>0</td>\n",
       "      <td>23.93</td>\n",
       "      <td>34.69</td>\n",
       "      <td>3.08</td>\n",
       "      <td>B07L87GPPT</td>\n",
       "      <td>New</td>\n",
       "      <td>1</td>\n",
       "      <td>Closed</td>\n",
       "      <td>Shipped</td>\n",
       "      <td>2023-04-22T08:49:26Z</td>\n",
       "      <td>sss-us</td>\n",
       "      <td>AMZN_US(TBA306363166884)</td>\n",
       "      <td>European Travel Plug Adapter 2 Pack, TESSAN In...</td>\n",
       "      <td>Not Available</td>\n",
       "      <td>Not Available</td>\n",
       "      <td>Not Available</td>\n",
       "    </tr>\n",
       "    <tr>\n",
       "      <th>4</th>\n",
       "      <td>Amazon.com</td>\n",
       "      <td>111-6057495-0973048</td>\n",
       "      <td>2023-03-27T19:14:05.0z</td>\n",
       "      <td>Not Applicable</td>\n",
       "      <td>USD</td>\n",
       "      <td>11.99</td>\n",
       "      <td>1.06</td>\n",
       "      <td>6.52</td>\n",
       "      <td>0</td>\n",
       "      <td>19.57</td>\n",
       "      <td>11.99</td>\n",
       "      <td>1.06</td>\n",
       "      <td>B07LCBTXZN</td>\n",
       "      <td>New</td>\n",
       "      <td>1</td>\n",
       "      <td>Closed</td>\n",
       "      <td>Shipped</td>\n",
       "      <td>2023-04-05T22:46:31Z</td>\n",
       "      <td>std-us-nft</td>\n",
       "      <td>AMZN_US(TBA306116204442)</td>\n",
       "      <td>NWK 43'' X 30'' Magic Pet Gate Baby Gate for T...</td>\n",
       "      <td>Not Available</td>\n",
       "      <td>Not Available</td>\n",
       "      <td>Not Available</td>\n",
       "    </tr>\n",
       "    <tr>\n",
       "      <th>...</th>\n",
       "      <td>...</td>\n",
       "      <td>...</td>\n",
       "      <td>...</td>\n",
       "      <td>...</td>\n",
       "      <td>...</td>\n",
       "      <td>...</td>\n",
       "      <td>...</td>\n",
       "      <td>...</td>\n",
       "      <td>...</td>\n",
       "      <td>...</td>\n",
       "      <td>...</td>\n",
       "      <td>...</td>\n",
       "      <td>...</td>\n",
       "      <td>...</td>\n",
       "      <td>...</td>\n",
       "      <td>...</td>\n",
       "      <td>...</td>\n",
       "      <td>...</td>\n",
       "      <td>...</td>\n",
       "      <td>...</td>\n",
       "      <td>...</td>\n",
       "      <td>...</td>\n",
       "      <td>...</td>\n",
       "      <td>...</td>\n",
       "    </tr>\n",
       "    <tr>\n",
       "      <th>210</th>\n",
       "      <td>Amazon.com</td>\n",
       "      <td>112-6953446-6330615</td>\n",
       "      <td>2019-12-15T05:59:38.0z</td>\n",
       "      <td>Not Applicable</td>\n",
       "      <td>USD</td>\n",
       "      <td>5.98</td>\n",
       "      <td>0</td>\n",
       "      <td>0</td>\n",
       "      <td>0</td>\n",
       "      <td>5.98</td>\n",
       "      <td>5.98</td>\n",
       "      <td>0</td>\n",
       "      <td>B07GWJRPTS</td>\n",
       "      <td>New</td>\n",
       "      <td>1</td>\n",
       "      <td>Closed</td>\n",
       "      <td>Shipped</td>\n",
       "      <td>2019-12-15T19:45:40Z</td>\n",
       "      <td>second-nominated-day</td>\n",
       "      <td>USPS(9374889679090534514449)</td>\n",
       "      <td>Makeup Blender Sponge 3 Pcs Set - Beauty Spong...</td>\n",
       "      <td>Not Available</td>\n",
       "      <td>Not Available</td>\n",
       "      <td>Not Available</td>\n",
       "    </tr>\n",
       "    <tr>\n",
       "      <th>211</th>\n",
       "      <td>Amazon.com</td>\n",
       "      <td>112-4902046-7943445</td>\n",
       "      <td>2019-12-05T15:31:40.0z</td>\n",
       "      <td>Not Applicable</td>\n",
       "      <td>USD</td>\n",
       "      <td>5.49</td>\n",
       "      <td>0.51</td>\n",
       "      <td>6.54</td>\n",
       "      <td>0</td>\n",
       "      <td>12.54</td>\n",
       "      <td>5.49</td>\n",
       "      <td>0.51</td>\n",
       "      <td>312367546</td>\n",
       "      <td>New</td>\n",
       "      <td>1</td>\n",
       "      <td>Closed</td>\n",
       "      <td>Shipped</td>\n",
       "      <td>2019-12-08T14:58:33Z</td>\n",
       "      <td>std-n-us</td>\n",
       "      <td>USPS(9341989679090108317000)</td>\n",
       "      <td>A Wrinkle in Time (Time Quintet)</td>\n",
       "      <td>Not Available</td>\n",
       "      <td>Not Available</td>\n",
       "      <td>Not Available</td>\n",
       "    </tr>\n",
       "    <tr>\n",
       "      <th>212</th>\n",
       "      <td>Amazon.com</td>\n",
       "      <td>112-2404022-6093033</td>\n",
       "      <td>2019-12-05T15:30:19.0z</td>\n",
       "      <td>Not Applicable</td>\n",
       "      <td>USD</td>\n",
       "      <td>14.32</td>\n",
       "      <td>1.04</td>\n",
       "      <td>6.42</td>\n",
       "      <td>0</td>\n",
       "      <td>21.78</td>\n",
       "      <td>14.32</td>\n",
       "      <td>1.04</td>\n",
       "      <td>B01CQUX96S</td>\n",
       "      <td>New</td>\n",
       "      <td>1</td>\n",
       "      <td>Closed</td>\n",
       "      <td>Shipped</td>\n",
       "      <td>2019-12-06T14:47:08Z</td>\n",
       "      <td>std-n-us</td>\n",
       "      <td>AMZN_US(TBA370127538000)</td>\n",
       "      <td>Takeya 50041, Black Originals Vacuum-Insulated...</td>\n",
       "      <td>Not Available</td>\n",
       "      <td>Not Available</td>\n",
       "      <td>Not Available</td>\n",
       "    </tr>\n",
       "    <tr>\n",
       "      <th>213</th>\n",
       "      <td>Amazon.com</td>\n",
       "      <td>112-9574863-4399409</td>\n",
       "      <td>2019-12-02T22:45:03.0z</td>\n",
       "      <td>Not Applicable</td>\n",
       "      <td>USD</td>\n",
       "      <td>10.69</td>\n",
       "      <td>0</td>\n",
       "      <td>5.99</td>\n",
       "      <td>0</td>\n",
       "      <td>16.68</td>\n",
       "      <td>10.69</td>\n",
       "      <td>0</td>\n",
       "      <td>B07FQCJJ6K</td>\n",
       "      <td>New</td>\n",
       "      <td>1</td>\n",
       "      <td>Closed</td>\n",
       "      <td>Shipped</td>\n",
       "      <td>2019-12-04T18:23:54Z</td>\n",
       "      <td>std-n-us</td>\n",
       "      <td>USPS(9374889679090526846305)</td>\n",
       "      <td>LEGEND SANDY Screaming Chicken,Yellow Rubber S...</td>\n",
       "      <td>Not Available</td>\n",
       "      <td>Not Available</td>\n",
       "      <td>Not Available</td>\n",
       "    </tr>\n",
       "    <tr>\n",
       "      <th>214</th>\n",
       "      <td>Amazon.com</td>\n",
       "      <td>112-9598378-5432221</td>\n",
       "      <td>2019-11-24T13:38:11.0z</td>\n",
       "      <td>Not Applicable</td>\n",
       "      <td>USD</td>\n",
       "      <td>7.68</td>\n",
       "      <td>0.71</td>\n",
       "      <td>9.81</td>\n",
       "      <td>0</td>\n",
       "      <td>18.2</td>\n",
       "      <td>7.68</td>\n",
       "      <td>0.71</td>\n",
       "      <td>B000NY17J6</td>\n",
       "      <td>New</td>\n",
       "      <td>1</td>\n",
       "      <td>Closed</td>\n",
       "      <td>Shipped</td>\n",
       "      <td>2019-11-25T17:59:51Z</td>\n",
       "      <td>second</td>\n",
       "      <td>UPS(1Z81RF201306545428)</td>\n",
       "      <td>Linda Ronstadt's Greatest Hits, Vol. 1 &amp; 2</td>\n",
       "      <td>Not Available</td>\n",
       "      <td>Not Available</td>\n",
       "      <td>Not Available</td>\n",
       "    </tr>\n",
       "  </tbody>\n",
       "</table>\n",
       "<p>215 rows × 24 columns</p>\n",
       "</div>"
      ],
      "text/plain": [
       "        Website             Order ID                Order Date   \n",
       "0    Amazon.com  113-6878423-2831408  2023-04-25T13:40:44.835z  \\\n",
       "1    Amazon.com  113-6732882-0977830    2023-04-23T14:27:15.0z   \n",
       "2    Amazon.com  114-3612302-9099413    2023-04-20T00:29:05.0z   \n",
       "3    Amazon.com  114-3612302-9099413    2023-04-20T00:29:05.0z   \n",
       "4    Amazon.com  111-6057495-0973048    2023-03-27T19:14:05.0z   \n",
       "..          ...                  ...                       ...   \n",
       "210  Amazon.com  112-6953446-6330615    2019-12-15T05:59:38.0z   \n",
       "211  Amazon.com  112-4902046-7943445    2019-12-05T15:31:40.0z   \n",
       "212  Amazon.com  112-2404022-6093033    2019-12-05T15:30:19.0z   \n",
       "213  Amazon.com  112-9574863-4399409    2019-12-02T22:45:03.0z   \n",
       "214  Amazon.com  112-9598378-5432221    2019-11-24T13:38:11.0z   \n",
       "\n",
       "    Purchase Order Number Currency Unit Price Unit Price Tax Shipping Charge   \n",
       "0          Not Applicable      USD      14.12              0            6.99  \\\n",
       "1          Not Applicable      USD      68.43           6.07               0   \n",
       "2          Not Applicable      USD      12.71           1.13               0   \n",
       "3          Not Applicable      USD      21.98           1.95               0   \n",
       "4          Not Applicable      USD      11.99           1.06            6.52   \n",
       "..                    ...      ...        ...            ...             ...   \n",
       "210        Not Applicable      USD       5.98              0               0   \n",
       "211        Not Applicable      USD       5.49           0.51            6.54   \n",
       "212        Not Applicable      USD      14.32           1.04            6.42   \n",
       "213        Not Applicable      USD      10.69              0            5.99   \n",
       "214        Not Applicable      USD       7.68           0.71            9.81   \n",
       "\n",
       "    Total Discounts Total Owed Shipment Item Subtotal   \n",
       "0                 0      21.11          Not Available  \\\n",
       "1                 0       74.5                  68.43   \n",
       "2                 0      13.84                  34.69   \n",
       "3                 0      23.93                  34.69   \n",
       "4                 0      19.57                  11.99   \n",
       "..              ...        ...                    ...   \n",
       "210               0       5.98                   5.98   \n",
       "211               0      12.54                   5.49   \n",
       "212               0      21.78                  14.32   \n",
       "213               0      16.68                  10.69   \n",
       "214               0       18.2                   7.68   \n",
       "\n",
       "    Shipment Item Subtotal Tax        ASIN Product Condition Quantity   \n",
       "0                Not Available  B07LGVZ42S               New        1  \\\n",
       "1                         6.07  B007NX6LMI              Used        1   \n",
       "2                         3.08  B07Y2V1HXV               New        1   \n",
       "3                         3.08  B07L87GPPT               New        1   \n",
       "4                         1.06  B07LCBTXZN               New        1   \n",
       "..                         ...         ...               ...      ...   \n",
       "210                          0  B07GWJRPTS               New        1   \n",
       "211                       0.51   312367546               New        1   \n",
       "212                       1.04  B01CQUX96S               New        1   \n",
       "213                          0  B07FQCJJ6K               New        1   \n",
       "214                       0.71  B000NY17J6               New        1   \n",
       "\n",
       "    Order Status Shipment Status             Ship Date       Shipping Option   \n",
       "0     Authorized   Not Available         Not Available              std-n-us  \\\n",
       "1         Closed         Shipped  2023-04-26T10:23:02Z                sss-us   \n",
       "2         Closed         Shipped  2023-04-22T08:49:26Z                sss-us   \n",
       "3         Closed         Shipped  2023-04-22T08:49:26Z                sss-us   \n",
       "4         Closed         Shipped  2023-04-05T22:46:31Z            std-us-nft   \n",
       "..           ...             ...                   ...                   ...   \n",
       "210       Closed         Shipped  2019-12-15T19:45:40Z  second-nominated-day   \n",
       "211       Closed         Shipped  2019-12-08T14:58:33Z              std-n-us   \n",
       "212       Closed         Shipped  2019-12-06T14:47:08Z              std-n-us   \n",
       "213       Closed         Shipped  2019-12-04T18:23:54Z              std-n-us   \n",
       "214       Closed         Shipped  2019-11-25T17:59:51Z                second   \n",
       "\n",
       "    Carrier Name & Tracking Number   \n",
       "0                    Not Available  \\\n",
       "1         AMZN_US(TBA306424722740)   \n",
       "2         AMZN_US(TBA306363166884)   \n",
       "3         AMZN_US(TBA306363166884)   \n",
       "4         AMZN_US(TBA306116204442)   \n",
       "..                             ...   \n",
       "210   USPS(9374889679090534514449)   \n",
       "211   USPS(9341989679090108317000)   \n",
       "212       AMZN_US(TBA370127538000)   \n",
       "213   USPS(9374889679090526846305)   \n",
       "214        UPS(1Z81RF201306545428)   \n",
       "\n",
       "                                          Product Name   Gift Message   \n",
       "0    Saucony Women's Performance Heel Tab Athletic ...  Not Available  \\\n",
       "1    SnapeZo Movie Poster Frame 27x41, Black, 1.25 ...  Not Available   \n",
       "2    UK Ireland Travel Plug Adapter, TESSAN Type G ...  Not Available   \n",
       "3    European Travel Plug Adapter 2 Pack, TESSAN In...  Not Available   \n",
       "4    NWK 43'' X 30'' Magic Pet Gate Baby Gate for T...  Not Available   \n",
       "..                                                 ...            ...   \n",
       "210  Makeup Blender Sponge 3 Pcs Set - Beauty Spong...  Not Available   \n",
       "211                   A Wrinkle in Time (Time Quintet)  Not Available   \n",
       "212  Takeya 50041, Black Originals Vacuum-Insulated...  Not Available   \n",
       "213  LEGEND SANDY Screaming Chicken,Yellow Rubber S...  Not Available   \n",
       "214         Linda Ronstadt's Greatest Hits, Vol. 1 & 2  Not Available   \n",
       "\n",
       "    Gift Sender Name Gift Recipient Contact Details  \n",
       "0      Not Available                  Not Available  \n",
       "1      Not Available                  Not Available  \n",
       "2      Not Available                  Not Available  \n",
       "3      Not Available                  Not Available  \n",
       "4      Not Available                  Not Available  \n",
       "..               ...                            ...  \n",
       "210    Not Available                  Not Available  \n",
       "211    Not Available                  Not Available  \n",
       "212    Not Available                  Not Available  \n",
       "213    Not Available                  Not Available  \n",
       "214    Not Available                  Not Available  \n",
       "\n",
       "[215 rows x 24 columns]"
      ]
     },
     "execution_count": 7,
     "metadata": {},
     "output_type": "execute_result"
    }
   ],
   "source": [
    "df"
   ]
  },
  {
   "cell_type": "code",
   "execution_count": 8,
   "metadata": {},
   "outputs": [],
   "source": [
    "df['Order Date'] = pd.to_datetime(df['Order Date']).dt.date"
   ]
  },
  {
   "cell_type": "code",
   "execution_count": 9,
   "metadata": {},
   "outputs": [
    {
     "data": {
      "text/html": [
       "<div>\n",
       "<style scoped>\n",
       "    .dataframe tbody tr th:only-of-type {\n",
       "        vertical-align: middle;\n",
       "    }\n",
       "\n",
       "    .dataframe tbody tr th {\n",
       "        vertical-align: top;\n",
       "    }\n",
       "\n",
       "    .dataframe thead th {\n",
       "        text-align: right;\n",
       "    }\n",
       "</style>\n",
       "<table border=\"1\" class=\"dataframe\">\n",
       "  <thead>\n",
       "    <tr style=\"text-align: right;\">\n",
       "      <th></th>\n",
       "      <th>Website</th>\n",
       "      <th>Order ID</th>\n",
       "      <th>Order Date</th>\n",
       "      <th>Purchase Order Number</th>\n",
       "      <th>Currency</th>\n",
       "      <th>Unit Price</th>\n",
       "      <th>Unit Price Tax</th>\n",
       "      <th>Shipping Charge</th>\n",
       "      <th>Total Discounts</th>\n",
       "      <th>Total Owed</th>\n",
       "      <th>Shipment Item Subtotal</th>\n",
       "      <th>Shipment Item Subtotal Tax</th>\n",
       "      <th>ASIN</th>\n",
       "      <th>Product Condition</th>\n",
       "      <th>Quantity</th>\n",
       "      <th>Order Status</th>\n",
       "      <th>Shipment Status</th>\n",
       "      <th>Ship Date</th>\n",
       "      <th>Shipping Option</th>\n",
       "      <th>Carrier Name &amp; Tracking Number</th>\n",
       "      <th>Product Name</th>\n",
       "      <th>Gift Message</th>\n",
       "      <th>Gift Sender Name</th>\n",
       "      <th>Gift Recipient Contact Details</th>\n",
       "    </tr>\n",
       "  </thead>\n",
       "  <tbody>\n",
       "    <tr>\n",
       "      <th>0</th>\n",
       "      <td>Amazon.com</td>\n",
       "      <td>113-6878423-2831408</td>\n",
       "      <td>2023-04-25</td>\n",
       "      <td>Not Applicable</td>\n",
       "      <td>USD</td>\n",
       "      <td>14.12</td>\n",
       "      <td>0</td>\n",
       "      <td>6.99</td>\n",
       "      <td>0</td>\n",
       "      <td>21.11</td>\n",
       "      <td>Not Available</td>\n",
       "      <td>Not Available</td>\n",
       "      <td>B07LGVZ42S</td>\n",
       "      <td>New</td>\n",
       "      <td>1</td>\n",
       "      <td>Authorized</td>\n",
       "      <td>Not Available</td>\n",
       "      <td>Not Available</td>\n",
       "      <td>std-n-us</td>\n",
       "      <td>Not Available</td>\n",
       "      <td>Saucony Women's Performance Heel Tab Athletic ...</td>\n",
       "      <td>Not Available</td>\n",
       "      <td>Not Available</td>\n",
       "      <td>Not Available</td>\n",
       "    </tr>\n",
       "    <tr>\n",
       "      <th>1</th>\n",
       "      <td>Amazon.com</td>\n",
       "      <td>113-6732882-0977830</td>\n",
       "      <td>2023-04-23</td>\n",
       "      <td>Not Applicable</td>\n",
       "      <td>USD</td>\n",
       "      <td>68.43</td>\n",
       "      <td>6.07</td>\n",
       "      <td>0</td>\n",
       "      <td>0</td>\n",
       "      <td>74.5</td>\n",
       "      <td>68.43</td>\n",
       "      <td>6.07</td>\n",
       "      <td>B007NX6LMI</td>\n",
       "      <td>Used</td>\n",
       "      <td>1</td>\n",
       "      <td>Closed</td>\n",
       "      <td>Shipped</td>\n",
       "      <td>2023-04-26T10:23:02Z</td>\n",
       "      <td>sss-us</td>\n",
       "      <td>AMZN_US(TBA306424722740)</td>\n",
       "      <td>SnapeZo Movie Poster Frame 27x41, Black, 1.25 ...</td>\n",
       "      <td>Not Available</td>\n",
       "      <td>Not Available</td>\n",
       "      <td>Not Available</td>\n",
       "    </tr>\n",
       "    <tr>\n",
       "      <th>2</th>\n",
       "      <td>Amazon.com</td>\n",
       "      <td>114-3612302-9099413</td>\n",
       "      <td>2023-04-20</td>\n",
       "      <td>Not Applicable</td>\n",
       "      <td>USD</td>\n",
       "      <td>12.71</td>\n",
       "      <td>1.13</td>\n",
       "      <td>0</td>\n",
       "      <td>0</td>\n",
       "      <td>13.84</td>\n",
       "      <td>34.69</td>\n",
       "      <td>3.08</td>\n",
       "      <td>B07Y2V1HXV</td>\n",
       "      <td>New</td>\n",
       "      <td>1</td>\n",
       "      <td>Closed</td>\n",
       "      <td>Shipped</td>\n",
       "      <td>2023-04-22T08:49:26Z</td>\n",
       "      <td>sss-us</td>\n",
       "      <td>AMZN_US(TBA306363166884)</td>\n",
       "      <td>UK Ireland Travel Plug Adapter, TESSAN Type G ...</td>\n",
       "      <td>Not Available</td>\n",
       "      <td>Not Available</td>\n",
       "      <td>Not Available</td>\n",
       "    </tr>\n",
       "    <tr>\n",
       "      <th>3</th>\n",
       "      <td>Amazon.com</td>\n",
       "      <td>114-3612302-9099413</td>\n",
       "      <td>2023-04-20</td>\n",
       "      <td>Not Applicable</td>\n",
       "      <td>USD</td>\n",
       "      <td>21.98</td>\n",
       "      <td>1.95</td>\n",
       "      <td>0</td>\n",
       "      <td>0</td>\n",
       "      <td>23.93</td>\n",
       "      <td>34.69</td>\n",
       "      <td>3.08</td>\n",
       "      <td>B07L87GPPT</td>\n",
       "      <td>New</td>\n",
       "      <td>1</td>\n",
       "      <td>Closed</td>\n",
       "      <td>Shipped</td>\n",
       "      <td>2023-04-22T08:49:26Z</td>\n",
       "      <td>sss-us</td>\n",
       "      <td>AMZN_US(TBA306363166884)</td>\n",
       "      <td>European Travel Plug Adapter 2 Pack, TESSAN In...</td>\n",
       "      <td>Not Available</td>\n",
       "      <td>Not Available</td>\n",
       "      <td>Not Available</td>\n",
       "    </tr>\n",
       "    <tr>\n",
       "      <th>4</th>\n",
       "      <td>Amazon.com</td>\n",
       "      <td>111-6057495-0973048</td>\n",
       "      <td>2023-03-27</td>\n",
       "      <td>Not Applicable</td>\n",
       "      <td>USD</td>\n",
       "      <td>11.99</td>\n",
       "      <td>1.06</td>\n",
       "      <td>6.52</td>\n",
       "      <td>0</td>\n",
       "      <td>19.57</td>\n",
       "      <td>11.99</td>\n",
       "      <td>1.06</td>\n",
       "      <td>B07LCBTXZN</td>\n",
       "      <td>New</td>\n",
       "      <td>1</td>\n",
       "      <td>Closed</td>\n",
       "      <td>Shipped</td>\n",
       "      <td>2023-04-05T22:46:31Z</td>\n",
       "      <td>std-us-nft</td>\n",
       "      <td>AMZN_US(TBA306116204442)</td>\n",
       "      <td>NWK 43'' X 30'' Magic Pet Gate Baby Gate for T...</td>\n",
       "      <td>Not Available</td>\n",
       "      <td>Not Available</td>\n",
       "      <td>Not Available</td>\n",
       "    </tr>\n",
       "    <tr>\n",
       "      <th>...</th>\n",
       "      <td>...</td>\n",
       "      <td>...</td>\n",
       "      <td>...</td>\n",
       "      <td>...</td>\n",
       "      <td>...</td>\n",
       "      <td>...</td>\n",
       "      <td>...</td>\n",
       "      <td>...</td>\n",
       "      <td>...</td>\n",
       "      <td>...</td>\n",
       "      <td>...</td>\n",
       "      <td>...</td>\n",
       "      <td>...</td>\n",
       "      <td>...</td>\n",
       "      <td>...</td>\n",
       "      <td>...</td>\n",
       "      <td>...</td>\n",
       "      <td>...</td>\n",
       "      <td>...</td>\n",
       "      <td>...</td>\n",
       "      <td>...</td>\n",
       "      <td>...</td>\n",
       "      <td>...</td>\n",
       "      <td>...</td>\n",
       "    </tr>\n",
       "    <tr>\n",
       "      <th>210</th>\n",
       "      <td>Amazon.com</td>\n",
       "      <td>112-6953446-6330615</td>\n",
       "      <td>2019-12-15</td>\n",
       "      <td>Not Applicable</td>\n",
       "      <td>USD</td>\n",
       "      <td>5.98</td>\n",
       "      <td>0</td>\n",
       "      <td>0</td>\n",
       "      <td>0</td>\n",
       "      <td>5.98</td>\n",
       "      <td>5.98</td>\n",
       "      <td>0</td>\n",
       "      <td>B07GWJRPTS</td>\n",
       "      <td>New</td>\n",
       "      <td>1</td>\n",
       "      <td>Closed</td>\n",
       "      <td>Shipped</td>\n",
       "      <td>2019-12-15T19:45:40Z</td>\n",
       "      <td>second-nominated-day</td>\n",
       "      <td>USPS(9374889679090534514449)</td>\n",
       "      <td>Makeup Blender Sponge 3 Pcs Set - Beauty Spong...</td>\n",
       "      <td>Not Available</td>\n",
       "      <td>Not Available</td>\n",
       "      <td>Not Available</td>\n",
       "    </tr>\n",
       "    <tr>\n",
       "      <th>211</th>\n",
       "      <td>Amazon.com</td>\n",
       "      <td>112-4902046-7943445</td>\n",
       "      <td>2019-12-05</td>\n",
       "      <td>Not Applicable</td>\n",
       "      <td>USD</td>\n",
       "      <td>5.49</td>\n",
       "      <td>0.51</td>\n",
       "      <td>6.54</td>\n",
       "      <td>0</td>\n",
       "      <td>12.54</td>\n",
       "      <td>5.49</td>\n",
       "      <td>0.51</td>\n",
       "      <td>312367546</td>\n",
       "      <td>New</td>\n",
       "      <td>1</td>\n",
       "      <td>Closed</td>\n",
       "      <td>Shipped</td>\n",
       "      <td>2019-12-08T14:58:33Z</td>\n",
       "      <td>std-n-us</td>\n",
       "      <td>USPS(9341989679090108317000)</td>\n",
       "      <td>A Wrinkle in Time (Time Quintet)</td>\n",
       "      <td>Not Available</td>\n",
       "      <td>Not Available</td>\n",
       "      <td>Not Available</td>\n",
       "    </tr>\n",
       "    <tr>\n",
       "      <th>212</th>\n",
       "      <td>Amazon.com</td>\n",
       "      <td>112-2404022-6093033</td>\n",
       "      <td>2019-12-05</td>\n",
       "      <td>Not Applicable</td>\n",
       "      <td>USD</td>\n",
       "      <td>14.32</td>\n",
       "      <td>1.04</td>\n",
       "      <td>6.42</td>\n",
       "      <td>0</td>\n",
       "      <td>21.78</td>\n",
       "      <td>14.32</td>\n",
       "      <td>1.04</td>\n",
       "      <td>B01CQUX96S</td>\n",
       "      <td>New</td>\n",
       "      <td>1</td>\n",
       "      <td>Closed</td>\n",
       "      <td>Shipped</td>\n",
       "      <td>2019-12-06T14:47:08Z</td>\n",
       "      <td>std-n-us</td>\n",
       "      <td>AMZN_US(TBA370127538000)</td>\n",
       "      <td>Takeya 50041, Black Originals Vacuum-Insulated...</td>\n",
       "      <td>Not Available</td>\n",
       "      <td>Not Available</td>\n",
       "      <td>Not Available</td>\n",
       "    </tr>\n",
       "    <tr>\n",
       "      <th>213</th>\n",
       "      <td>Amazon.com</td>\n",
       "      <td>112-9574863-4399409</td>\n",
       "      <td>2019-12-02</td>\n",
       "      <td>Not Applicable</td>\n",
       "      <td>USD</td>\n",
       "      <td>10.69</td>\n",
       "      <td>0</td>\n",
       "      <td>5.99</td>\n",
       "      <td>0</td>\n",
       "      <td>16.68</td>\n",
       "      <td>10.69</td>\n",
       "      <td>0</td>\n",
       "      <td>B07FQCJJ6K</td>\n",
       "      <td>New</td>\n",
       "      <td>1</td>\n",
       "      <td>Closed</td>\n",
       "      <td>Shipped</td>\n",
       "      <td>2019-12-04T18:23:54Z</td>\n",
       "      <td>std-n-us</td>\n",
       "      <td>USPS(9374889679090526846305)</td>\n",
       "      <td>LEGEND SANDY Screaming Chicken,Yellow Rubber S...</td>\n",
       "      <td>Not Available</td>\n",
       "      <td>Not Available</td>\n",
       "      <td>Not Available</td>\n",
       "    </tr>\n",
       "    <tr>\n",
       "      <th>214</th>\n",
       "      <td>Amazon.com</td>\n",
       "      <td>112-9598378-5432221</td>\n",
       "      <td>2019-11-24</td>\n",
       "      <td>Not Applicable</td>\n",
       "      <td>USD</td>\n",
       "      <td>7.68</td>\n",
       "      <td>0.71</td>\n",
       "      <td>9.81</td>\n",
       "      <td>0</td>\n",
       "      <td>18.2</td>\n",
       "      <td>7.68</td>\n",
       "      <td>0.71</td>\n",
       "      <td>B000NY17J6</td>\n",
       "      <td>New</td>\n",
       "      <td>1</td>\n",
       "      <td>Closed</td>\n",
       "      <td>Shipped</td>\n",
       "      <td>2019-11-25T17:59:51Z</td>\n",
       "      <td>second</td>\n",
       "      <td>UPS(1Z81RF201306545428)</td>\n",
       "      <td>Linda Ronstadt's Greatest Hits, Vol. 1 &amp; 2</td>\n",
       "      <td>Not Available</td>\n",
       "      <td>Not Available</td>\n",
       "      <td>Not Available</td>\n",
       "    </tr>\n",
       "  </tbody>\n",
       "</table>\n",
       "<p>215 rows × 24 columns</p>\n",
       "</div>"
      ],
      "text/plain": [
       "        Website             Order ID  Order Date Purchase Order Number   \n",
       "0    Amazon.com  113-6878423-2831408  2023-04-25        Not Applicable  \\\n",
       "1    Amazon.com  113-6732882-0977830  2023-04-23        Not Applicable   \n",
       "2    Amazon.com  114-3612302-9099413  2023-04-20        Not Applicable   \n",
       "3    Amazon.com  114-3612302-9099413  2023-04-20        Not Applicable   \n",
       "4    Amazon.com  111-6057495-0973048  2023-03-27        Not Applicable   \n",
       "..          ...                  ...         ...                   ...   \n",
       "210  Amazon.com  112-6953446-6330615  2019-12-15        Not Applicable   \n",
       "211  Amazon.com  112-4902046-7943445  2019-12-05        Not Applicable   \n",
       "212  Amazon.com  112-2404022-6093033  2019-12-05        Not Applicable   \n",
       "213  Amazon.com  112-9574863-4399409  2019-12-02        Not Applicable   \n",
       "214  Amazon.com  112-9598378-5432221  2019-11-24        Not Applicable   \n",
       "\n",
       "    Currency Unit Price Unit Price Tax Shipping Charge Total Discounts   \n",
       "0        USD      14.12              0            6.99               0  \\\n",
       "1        USD      68.43           6.07               0               0   \n",
       "2        USD      12.71           1.13               0               0   \n",
       "3        USD      21.98           1.95               0               0   \n",
       "4        USD      11.99           1.06            6.52               0   \n",
       "..       ...        ...            ...             ...             ...   \n",
       "210      USD       5.98              0               0               0   \n",
       "211      USD       5.49           0.51            6.54               0   \n",
       "212      USD      14.32           1.04            6.42               0   \n",
       "213      USD      10.69              0            5.99               0   \n",
       "214      USD       7.68           0.71            9.81               0   \n",
       "\n",
       "    Total Owed Shipment Item Subtotal Shipment Item Subtotal Tax        ASIN   \n",
       "0        21.11          Not Available              Not Available  B07LGVZ42S  \\\n",
       "1         74.5                  68.43                       6.07  B007NX6LMI   \n",
       "2        13.84                  34.69                       3.08  B07Y2V1HXV   \n",
       "3        23.93                  34.69                       3.08  B07L87GPPT   \n",
       "4        19.57                  11.99                       1.06  B07LCBTXZN   \n",
       "..         ...                    ...                        ...         ...   \n",
       "210       5.98                   5.98                          0  B07GWJRPTS   \n",
       "211      12.54                   5.49                       0.51   312367546   \n",
       "212      21.78                  14.32                       1.04  B01CQUX96S   \n",
       "213      16.68                  10.69                          0  B07FQCJJ6K   \n",
       "214       18.2                   7.68                       0.71  B000NY17J6   \n",
       "\n",
       "    Product Condition Quantity Order Status Shipment Status   \n",
       "0                 New        1   Authorized   Not Available  \\\n",
       "1                Used        1       Closed         Shipped   \n",
       "2                 New        1       Closed         Shipped   \n",
       "3                 New        1       Closed         Shipped   \n",
       "4                 New        1       Closed         Shipped   \n",
       "..                ...      ...          ...             ...   \n",
       "210               New        1       Closed         Shipped   \n",
       "211               New        1       Closed         Shipped   \n",
       "212               New        1       Closed         Shipped   \n",
       "213               New        1       Closed         Shipped   \n",
       "214               New        1       Closed         Shipped   \n",
       "\n",
       "                Ship Date       Shipping Option   \n",
       "0           Not Available              std-n-us  \\\n",
       "1    2023-04-26T10:23:02Z                sss-us   \n",
       "2    2023-04-22T08:49:26Z                sss-us   \n",
       "3    2023-04-22T08:49:26Z                sss-us   \n",
       "4    2023-04-05T22:46:31Z            std-us-nft   \n",
       "..                    ...                   ...   \n",
       "210  2019-12-15T19:45:40Z  second-nominated-day   \n",
       "211  2019-12-08T14:58:33Z              std-n-us   \n",
       "212  2019-12-06T14:47:08Z              std-n-us   \n",
       "213  2019-12-04T18:23:54Z              std-n-us   \n",
       "214  2019-11-25T17:59:51Z                second   \n",
       "\n",
       "    Carrier Name & Tracking Number   \n",
       "0                    Not Available  \\\n",
       "1         AMZN_US(TBA306424722740)   \n",
       "2         AMZN_US(TBA306363166884)   \n",
       "3         AMZN_US(TBA306363166884)   \n",
       "4         AMZN_US(TBA306116204442)   \n",
       "..                             ...   \n",
       "210   USPS(9374889679090534514449)   \n",
       "211   USPS(9341989679090108317000)   \n",
       "212       AMZN_US(TBA370127538000)   \n",
       "213   USPS(9374889679090526846305)   \n",
       "214        UPS(1Z81RF201306545428)   \n",
       "\n",
       "                                          Product Name   Gift Message   \n",
       "0    Saucony Women's Performance Heel Tab Athletic ...  Not Available  \\\n",
       "1    SnapeZo Movie Poster Frame 27x41, Black, 1.25 ...  Not Available   \n",
       "2    UK Ireland Travel Plug Adapter, TESSAN Type G ...  Not Available   \n",
       "3    European Travel Plug Adapter 2 Pack, TESSAN In...  Not Available   \n",
       "4    NWK 43'' X 30'' Magic Pet Gate Baby Gate for T...  Not Available   \n",
       "..                                                 ...            ...   \n",
       "210  Makeup Blender Sponge 3 Pcs Set - Beauty Spong...  Not Available   \n",
       "211                   A Wrinkle in Time (Time Quintet)  Not Available   \n",
       "212  Takeya 50041, Black Originals Vacuum-Insulated...  Not Available   \n",
       "213  LEGEND SANDY Screaming Chicken,Yellow Rubber S...  Not Available   \n",
       "214         Linda Ronstadt's Greatest Hits, Vol. 1 & 2  Not Available   \n",
       "\n",
       "    Gift Sender Name Gift Recipient Contact Details  \n",
       "0      Not Available                  Not Available  \n",
       "1      Not Available                  Not Available  \n",
       "2      Not Available                  Not Available  \n",
       "3      Not Available                  Not Available  \n",
       "4      Not Available                  Not Available  \n",
       "..               ...                            ...  \n",
       "210    Not Available                  Not Available  \n",
       "211    Not Available                  Not Available  \n",
       "212    Not Available                  Not Available  \n",
       "213    Not Available                  Not Available  \n",
       "214    Not Available                  Not Available  \n",
       "\n",
       "[215 rows x 24 columns]"
      ]
     },
     "execution_count": 9,
     "metadata": {},
     "output_type": "execute_result"
    }
   ],
   "source": [
    "df"
   ]
  },
  {
   "cell_type": "code",
   "execution_count": 10,
   "metadata": {},
   "outputs": [
    {
     "data": {
      "text/plain": [
       "['Website',\n",
       " 'Order ID',\n",
       " 'Order Date',\n",
       " 'Purchase Order Number',\n",
       " 'Currency',\n",
       " 'Unit Price',\n",
       " 'Unit Price Tax',\n",
       " 'Shipping Charge',\n",
       " 'Total Discounts',\n",
       " 'Total Owed',\n",
       " 'Shipment Item Subtotal',\n",
       " 'Shipment Item Subtotal Tax',\n",
       " 'ASIN',\n",
       " 'Product Condition',\n",
       " 'Quantity',\n",
       " 'Order Status',\n",
       " 'Shipment Status',\n",
       " 'Ship Date',\n",
       " 'Shipping Option',\n",
       " 'Carrier Name & Tracking Number',\n",
       " 'Product Name',\n",
       " 'Gift Message',\n",
       " 'Gift Sender Name',\n",
       " 'Gift Recipient Contact Details']"
      ]
     },
     "execution_count": 10,
     "metadata": {},
     "output_type": "execute_result"
    }
   ],
   "source": [
    "list(df)"
   ]
  },
  {
   "cell_type": "code",
   "execution_count": 11,
   "metadata": {},
   "outputs": [
    {
     "ename": "KeyError",
     "evalue": "\"['Payment Instrument Type'] not found in axis\"",
     "output_type": "error",
     "traceback": [
      "\u001b[1;31m---------------------------------------------------------------------------\u001b[0m",
      "\u001b[1;31mKeyError\u001b[0m                                  Traceback (most recent call last)",
      "\u001b[1;32mc:\\Users\\charo\\OneDrive\\Documents\\GitHub\\PersonalGithub\\Python\\Plotting Personal Data\\Final.ipynb Cell 12\u001b[0m line \u001b[0;36m1\n\u001b[1;32m----> <a href='vscode-notebook-cell:/c%3A/Users/charo/OneDrive/Documents/GitHub/PersonalGithub/Python/Plotting%20Personal%20Data/Final.ipynb#X14sZmlsZQ%3D%3D?line=0'>1</a>\u001b[0m df\u001b[39m.\u001b[39;49mdrop([\u001b[39m'\u001b[39;49m\u001b[39mPayment Instrument Type\u001b[39;49m\u001b[39m'\u001b[39;49m,\u001b[39m'\u001b[39;49m\u001b[39mOrder Status\u001b[39;49m\u001b[39m'\u001b[39;49m,\u001b[39m'\u001b[39;49m\u001b[39mShipment Status\u001b[39;49m\u001b[39m'\u001b[39;49m,\u001b[39m'\u001b[39;49m\u001b[39mASIN\u001b[39;49m\u001b[39m'\u001b[39;49m,\u001b[39m'\u001b[39;49m\u001b[39mProduct Condition\u001b[39;49m\u001b[39m'\u001b[39;49m,\u001b[39m'\u001b[39;49m\u001b[39mCarrier Name & Tracking Number\u001b[39;49m\u001b[39m'\u001b[39;49m,\u001b[39m'\u001b[39;49m\u001b[39mGift Message\u001b[39;49m\u001b[39m'\u001b[39;49m,\u001b[39m'\u001b[39;49m\u001b[39mGift Sender Name\u001b[39;49m\u001b[39m'\u001b[39;49m],axis\u001b[39m=\u001b[39;49m\u001b[39m1\u001b[39;49m,inplace\u001b[39m=\u001b[39;49m\u001b[39mTrue\u001b[39;49;00m)\n",
      "File \u001b[1;32mc:\\Users\\charo\\AppData\\Local\\Programs\\Python\\Python310\\lib\\site-packages\\pandas\\core\\frame.py:5266\u001b[0m, in \u001b[0;36mDataFrame.drop\u001b[1;34m(self, labels, axis, index, columns, level, inplace, errors)\u001b[0m\n\u001b[0;32m   5118\u001b[0m \u001b[39mdef\u001b[39;00m \u001b[39mdrop\u001b[39m(\n\u001b[0;32m   5119\u001b[0m     \u001b[39mself\u001b[39m,\n\u001b[0;32m   5120\u001b[0m     labels: IndexLabel \u001b[39m=\u001b[39m \u001b[39mNone\u001b[39;00m,\n\u001b[1;32m   (...)\u001b[0m\n\u001b[0;32m   5127\u001b[0m     errors: IgnoreRaise \u001b[39m=\u001b[39m \u001b[39m\"\u001b[39m\u001b[39mraise\u001b[39m\u001b[39m\"\u001b[39m,\n\u001b[0;32m   5128\u001b[0m ) \u001b[39m-\u001b[39m\u001b[39m>\u001b[39m DataFrame \u001b[39m|\u001b[39m \u001b[39mNone\u001b[39;00m:\n\u001b[0;32m   5129\u001b[0m \u001b[39m    \u001b[39m\u001b[39m\"\"\"\u001b[39;00m\n\u001b[0;32m   5130\u001b[0m \u001b[39m    Drop specified labels from rows or columns.\u001b[39;00m\n\u001b[0;32m   5131\u001b[0m \n\u001b[1;32m   (...)\u001b[0m\n\u001b[0;32m   5264\u001b[0m \u001b[39m            weight  1.0     0.8\u001b[39;00m\n\u001b[0;32m   5265\u001b[0m \u001b[39m    \"\"\"\u001b[39;00m\n\u001b[1;32m-> 5266\u001b[0m     \u001b[39mreturn\u001b[39;00m \u001b[39msuper\u001b[39;49m()\u001b[39m.\u001b[39;49mdrop(\n\u001b[0;32m   5267\u001b[0m         labels\u001b[39m=\u001b[39;49mlabels,\n\u001b[0;32m   5268\u001b[0m         axis\u001b[39m=\u001b[39;49maxis,\n\u001b[0;32m   5269\u001b[0m         index\u001b[39m=\u001b[39;49mindex,\n\u001b[0;32m   5270\u001b[0m         columns\u001b[39m=\u001b[39;49mcolumns,\n\u001b[0;32m   5271\u001b[0m         level\u001b[39m=\u001b[39;49mlevel,\n\u001b[0;32m   5272\u001b[0m         inplace\u001b[39m=\u001b[39;49minplace,\n\u001b[0;32m   5273\u001b[0m         errors\u001b[39m=\u001b[39;49merrors,\n\u001b[0;32m   5274\u001b[0m     )\n",
      "File \u001b[1;32mc:\\Users\\charo\\AppData\\Local\\Programs\\Python\\Python310\\lib\\site-packages\\pandas\\core\\generic.py:4549\u001b[0m, in \u001b[0;36mNDFrame.drop\u001b[1;34m(self, labels, axis, index, columns, level, inplace, errors)\u001b[0m\n\u001b[0;32m   4547\u001b[0m \u001b[39mfor\u001b[39;00m axis, labels \u001b[39min\u001b[39;00m axes\u001b[39m.\u001b[39mitems():\n\u001b[0;32m   4548\u001b[0m     \u001b[39mif\u001b[39;00m labels \u001b[39mis\u001b[39;00m \u001b[39mnot\u001b[39;00m \u001b[39mNone\u001b[39;00m:\n\u001b[1;32m-> 4549\u001b[0m         obj \u001b[39m=\u001b[39m obj\u001b[39m.\u001b[39;49m_drop_axis(labels, axis, level\u001b[39m=\u001b[39;49mlevel, errors\u001b[39m=\u001b[39;49merrors)\n\u001b[0;32m   4551\u001b[0m \u001b[39mif\u001b[39;00m inplace:\n\u001b[0;32m   4552\u001b[0m     \u001b[39mself\u001b[39m\u001b[39m.\u001b[39m_update_inplace(obj)\n",
      "File \u001b[1;32mc:\\Users\\charo\\AppData\\Local\\Programs\\Python\\Python310\\lib\\site-packages\\pandas\\core\\generic.py:4591\u001b[0m, in \u001b[0;36mNDFrame._drop_axis\u001b[1;34m(self, labels, axis, level, errors, only_slice)\u001b[0m\n\u001b[0;32m   4589\u001b[0m         new_axis \u001b[39m=\u001b[39m axis\u001b[39m.\u001b[39mdrop(labels, level\u001b[39m=\u001b[39mlevel, errors\u001b[39m=\u001b[39merrors)\n\u001b[0;32m   4590\u001b[0m     \u001b[39melse\u001b[39;00m:\n\u001b[1;32m-> 4591\u001b[0m         new_axis \u001b[39m=\u001b[39m axis\u001b[39m.\u001b[39;49mdrop(labels, errors\u001b[39m=\u001b[39;49merrors)\n\u001b[0;32m   4592\u001b[0m     indexer \u001b[39m=\u001b[39m axis\u001b[39m.\u001b[39mget_indexer(new_axis)\n\u001b[0;32m   4594\u001b[0m \u001b[39m# Case for non-unique axis\u001b[39;00m\n\u001b[0;32m   4595\u001b[0m \u001b[39melse\u001b[39;00m:\n",
      "File \u001b[1;32mc:\\Users\\charo\\AppData\\Local\\Programs\\Python\\Python310\\lib\\site-packages\\pandas\\core\\indexes\\base.py:6696\u001b[0m, in \u001b[0;36mIndex.drop\u001b[1;34m(self, labels, errors)\u001b[0m\n\u001b[0;32m   6694\u001b[0m \u001b[39mif\u001b[39;00m mask\u001b[39m.\u001b[39many():\n\u001b[0;32m   6695\u001b[0m     \u001b[39mif\u001b[39;00m errors \u001b[39m!=\u001b[39m \u001b[39m\"\u001b[39m\u001b[39mignore\u001b[39m\u001b[39m\"\u001b[39m:\n\u001b[1;32m-> 6696\u001b[0m         \u001b[39mraise\u001b[39;00m \u001b[39mKeyError\u001b[39;00m(\u001b[39mf\u001b[39m\u001b[39m\"\u001b[39m\u001b[39m{\u001b[39;00m\u001b[39mlist\u001b[39m(labels[mask])\u001b[39m}\u001b[39;00m\u001b[39m not found in axis\u001b[39m\u001b[39m\"\u001b[39m)\n\u001b[0;32m   6697\u001b[0m     indexer \u001b[39m=\u001b[39m indexer[\u001b[39m~\u001b[39mmask]\n\u001b[0;32m   6698\u001b[0m \u001b[39mreturn\u001b[39;00m \u001b[39mself\u001b[39m\u001b[39m.\u001b[39mdelete(indexer)\n",
      "\u001b[1;31mKeyError\u001b[0m: \"['Payment Instrument Type'] not found in axis\""
     ]
    }
   ],
   "source": [
    "df.drop(['Payment Instrument Type','Order Status','Shipment Status','ASIN','Product Condition','Carrier Name & Tracking Number','Gift Message','Gift Sender Name'],axis=1,inplace=True)"
   ]
  },
  {
   "cell_type": "code",
   "execution_count": null,
   "metadata": {},
   "outputs": [
    {
     "data": {
      "text/plain": [
       "(215, 19)"
      ]
     },
     "execution_count": 15,
     "metadata": {},
     "output_type": "execute_result"
    }
   ],
   "source": [
    "df.shape"
   ]
  },
  {
   "cell_type": "code",
   "execution_count": null,
   "metadata": {},
   "outputs": [
    {
     "data": {
      "text/plain": [
       "'21.1174.513.8423.9319.57129.9512.9522.811.9517.932.795.995.991.595.4906.795.4911.994.996.394.4927.7934.7220.2210.4115.6454.3110.8422.8526.1225.13013.0422.84215.687.2825.3525.6619.5947.8413.0417.066.5428.048.7310.378.7320.7510.3716.3810.9126.5115.2814.1916.3627.227.320.4422.0912.1318.5213.4915.8215.2716.3623.9320.3529.398.0711.9721.7617.9435.923.5912.2216.19014.6722.8456.612.9713.0814.1836.4530.026.427.516.06258.0115.3624.7816.614.25.3121.7330.5318.9625.875011.7519.8810.15018.5622.9310.9112.9812.016.8510.7116.0814.0611.5422.57.993.494.495.991.773.295.995.293.2919.9117.1327.8619.6420.0636.8432.1631.096.4213.9316.0827.0633.222016.2839.1324.1221.7317.4126.8110.9132.7614.3614.1927.5619.6526.1643.6947.9721.8424.0218.5413.0825.521.8233.2224.663.210015.999.979.6421.713.9213.8724.558.0430.619.1421.8216.6731.2315.2217.9718.92016.9917.9922.996.9943.698.739.823517.947.5712.5834.2816.072020.0764.0413.933.23.213.219.999.9925.9522.857.99006.9920.95.9812.5421.7816.6818.2'"
      ]
     },
     "execution_count": 16,
     "metadata": {},
     "output_type": "execute_result"
    }
   ],
   "source": [
    "df['Total Owed'].sum()"
   ]
  },
  {
   "cell_type": "code",
   "execution_count": null,
   "metadata": {},
   "outputs": [],
   "source": [
    "df['Total Owed'] = pd.to_numeric(df['Total Owed'])"
   ]
  },
  {
   "cell_type": "code",
   "execution_count": null,
   "metadata": {},
   "outputs": [
    {
     "data": {
      "text/plain": [
       "4421.01"
      ]
     },
     "execution_count": 18,
     "metadata": {},
     "output_type": "execute_result"
    }
   ],
   "source": [
    "df['Total Owed'].sum()"
   ]
  },
  {
   "cell_type": "code",
   "execution_count": null,
   "metadata": {},
   "outputs": [
    {
     "data": {
      "text/plain": [
       "20.562837209302327"
      ]
     },
     "execution_count": 19,
     "metadata": {},
     "output_type": "execute_result"
    }
   ],
   "source": [
    "df['Total Owed'].mean()"
   ]
  },
  {
   "cell_type": "code",
   "execution_count": null,
   "metadata": {},
   "outputs": [
    {
     "data": {
      "text/plain": [
       "<Axes: xlabel='Order Date'>"
      ]
     },
     "execution_count": 20,
     "metadata": {},
     "output_type": "execute_result"
    },
    {
     "data": {
      "image/png": "[encoded data removed]",
      "text/plain": [
       "<Figure size 3000x2000 with 1 Axes>"
      ]
     },
     "metadata": {},
     "output_type": "display_data"
    }
   ],
   "source": [
    "df.plot.bar(x='Order Date', y='Total Owed', rot=90, figsize=(30,20))"
   ]
  },
  {
   "cell_type": "code",
   "execution_count": null,
   "metadata": {},
   "outputs": [
    {
     "data": {
      "text/plain": [
       "Order Date\n",
       "2019-11-24    18.20\n",
       "2019-12-02    16.68\n",
       "2019-12-05    34.32\n",
       "2019-12-15     5.98\n",
       "2020-01-20    58.73\n",
       "Name: Total Owed, dtype: float64"
      ]
     },
     "execution_count": 21,
     "metadata": {},
     "output_type": "execute_result"
    }
   ],
   "source": [
    "same_day_orders = df.groupby('Order Date').sum()[\"Total Owed\"]\n",
    "same_day_orders.head()"
   ]
  },
  {
   "cell_type": "code",
   "execution_count": null,
   "metadata": {},
   "outputs": [
    {
     "data": {
      "text/plain": [
       "<Axes: xlabel='Order Date'>"
      ]
     },
     "execution_count": 22,
     "metadata": {},
     "output_type": "execute_result"
    },
    {
     "data": {
      "image/png": "[encoded data removed]",
      "text/plain": [
       "<Figure size 3000x2000 with 1 Axes>"
      ]
     },
     "metadata": {},
     "output_type": "display_data"
    }
   ],
   "source": [
    "same_day_orders.plot.bar(figsize=(30,20))"
   ]
  },
  {
   "cell_type": "code",
   "execution_count": null,
   "metadata": {},
   "outputs": [
    {
     "data": {
      "text/plain": [
       "3617.11"
      ]
     },
     "execution_count": 23,
     "metadata": {},
     "output_type": "execute_result"
    }
   ],
   "source": [
    "df['Unit Price'] = pd.to_numeric(df['Unit Price'])\n",
    "df['Unit Price'].sum()"
   ]
  },
  {
   "cell_type": "code",
   "execution_count": null,
   "metadata": {},
   "outputs": [
    {
     "data": {
      "text/plain": [
       "<function matplotlib.pyplot.show(close=None, block=None)>"
      ]
     },
     "execution_count": 24,
     "metadata": {},
     "output_type": "execute_result"
    },
    {
     "data": {
      "image/png": "[encoded data removed]",
      "text/plain": [
       "<Figure size 640x480 with 1 Axes>"
      ]
     },
     "metadata": {},
     "output_type": "display_data"
    }
   ],
   "source": [
    "plt.plot(df['Order Date'],df['Total Owed'])\n",
    "plt.plot(df['Order Date'],df['Unit Price'])\n",
    "plt.title(\"Unit Price vs. Total Owed\")\n",
    "plt.xlabel(\"Order Date\")\n",
    "plt.ylabel(\"Price\")\n",
    "plt.legend([\"Total Owed\", \"Unit Price\"])\n",
    "plt.show"
   ]
  },
  {
   "cell_type": "code",
   "execution_count": null,
   "metadata": {},
   "outputs": [
    {
     "name": "stdout",
     "output_type": "stream",
     "text": [
      "Requirement already satisfied: bokeh in c:\\users\\charo\\appdata\\local\\programs\\python\\python310\\lib\\site-packages (3.1.1)\n",
      "Requirement already satisfied: pandas>=1.2 in c:\\users\\charo\\appdata\\local\\programs\\python\\python310\\lib\\site-packages (from bokeh) (2.0.0)\n",
      "Requirement already satisfied: Jinja2>=2.9 in c:\\users\\charo\\appdata\\local\\programs\\python\\python310\\lib\\site-packages (from bokeh) (3.1.2)\n",
      "Requirement already satisfied: PyYAML>=3.10 in c:\\users\\charo\\appdata\\local\\programs\\python\\python310\\lib\\site-packages (from bokeh) (6.0)\n",
      "Requirement already satisfied: packaging>=16.8 in c:\\users\\charo\\appdata\\roaming\\python\\python310\\site-packages (from bokeh) (23.0)\n",
      "Requirement already satisfied: pillow>=7.1.0 in c:\\users\\charo\\appdata\\local\\programs\\python\\python310\\lib\\site-packages (from bokeh) (9.4.0)\n",
      "Requirement already satisfied: tornado>=5.1 in c:\\users\\charo\\appdata\\roaming\\python\\python310\\site-packages (from bokeh) (6.2)\n",
      "Requirement already satisfied: numpy>=1.16 in c:\\users\\charo\\appdata\\local\\programs\\python\\python310\\lib\\site-packages (from bokeh) (1.24.2)\n",
      "Requirement already satisfied: xyzservices>=2021.09.1 in c:\\users\\charo\\appdata\\local\\programs\\python\\python310\\lib\\site-packages (from bokeh) (2023.2.0)\n",
      "Requirement already satisfied: contourpy>=1 in c:\\users\\charo\\appdata\\local\\programs\\python\\python310\\lib\\site-packages (from bokeh) (1.0.7)\n",
      "Requirement already satisfied: MarkupSafe>=2.0 in c:\\users\\charo\\appdata\\local\\programs\\python\\python310\\lib\\site-packages (from Jinja2>=2.9->bokeh) (2.1.2)\n",
      "Requirement already satisfied: tzdata>=2022.1 in c:\\users\\charo\\appdata\\local\\programs\\python\\python310\\lib\\site-packages (from pandas>=1.2->bokeh) (2023.3)\n",
      "Requirement already satisfied: python-dateutil>=2.8.2 in c:\\users\\charo\\appdata\\roaming\\python\\python310\\site-packages (from pandas>=1.2->bokeh) (2.8.2)\n",
      "Requirement already satisfied: pytz>=2020.1 in c:\\users\\charo\\appdata\\local\\programs\\python\\python310\\lib\\site-packages (from pandas>=1.2->bokeh) (2023.3)\n",
      "Requirement already satisfied: six>=1.5 in c:\\users\\charo\\appdata\\roaming\\python\\python310\\site-packages (from python-dateutil>=2.8.2->pandas>=1.2->bokeh) (1.16.0)\n",
      "Note: you may need to restart the kernel to use updated packages.\n"
     ]
    },
    {
     "name": "stderr",
     "output_type": "stream",
     "text": [
      "\n",
      "[notice] A new release of pip is available: 23.0.1 -> 23.1.2\n",
      "[notice] To update, run: python.exe -m pip install --upgrade pip\n"
     ]
    }
   ],
   "source": [
    "pip install bokeh"
   ]
  },
  {
   "cell_type": "code",
   "execution_count": null,
   "metadata": {},
   "outputs": [],
   "source": [
    "from bokeh.plotting import figure, show"
   ]
  },
  {
   "cell_type": "code",
   "execution_count": null,
   "metadata": {},
   "outputs": [
    {
     "data": {
      "text/html": [
       "<div style=\"display: table;\"><div style=\"display: table-row;\"><div style=\"display: table-cell;\"><b title=\"bokeh.models.renderers.glyph_renderer.GlyphRenderer\">GlyphRenderer</b>(</div><div style=\"display: table-cell;\">id&nbsp;=&nbsp;'p1054', <span id=\"p1060\" style=\"cursor: pointer;\">&hellip;)</span></div></div><div class=\"p1059\" style=\"display: none;\"><div style=\"display: table-cell;\"></div><div style=\"display: table-cell;\">coordinates&nbsp;=&nbsp;None,</div></div><div class=\"p1059\" style=\"display: none;\"><div style=\"display: table-cell;\"></div><div style=\"display: table-cell;\">data_source&nbsp;=&nbsp;ColumnDataSource(id='p1048', ...),</div></div><div class=\"p1059\" style=\"display: none;\"><div style=\"display: table-cell;\"></div><div style=\"display: table-cell;\">glyph&nbsp;=&nbsp;Line(id='p1051', ...),</div></div><div class=\"p1059\" style=\"display: none;\"><div style=\"display: table-cell;\"></div><div style=\"display: table-cell;\">group&nbsp;=&nbsp;None,</div></div><div class=\"p1059\" style=\"display: none;\"><div style=\"display: table-cell;\"></div><div style=\"display: table-cell;\">hover_glyph&nbsp;=&nbsp;None,</div></div><div class=\"p1059\" style=\"display: none;\"><div style=\"display: table-cell;\"></div><div style=\"display: table-cell;\">js_event_callbacks&nbsp;=&nbsp;{},</div></div><div class=\"p1059\" style=\"display: none;\"><div style=\"display: table-cell;\"></div><div style=\"display: table-cell;\">js_property_callbacks&nbsp;=&nbsp;{},</div></div><div class=\"p1059\" style=\"display: none;\"><div style=\"display: table-cell;\"></div><div style=\"display: table-cell;\">level&nbsp;=&nbsp;'glyph',</div></div><div class=\"p1059\" style=\"display: none;\"><div style=\"display: table-cell;\"></div><div style=\"display: table-cell;\">muted&nbsp;=&nbsp;False,</div></div><div class=\"p1059\" style=\"display: none;\"><div style=\"display: table-cell;\"></div><div style=\"display: table-cell;\">muted_glyph&nbsp;=&nbsp;Line(id='p1053', ...),</div></div><div class=\"p1059\" style=\"display: none;\"><div style=\"display: table-cell;\"></div><div style=\"display: table-cell;\">name&nbsp;=&nbsp;None,</div></div><div class=\"p1059\" style=\"display: none;\"><div style=\"display: table-cell;\"></div><div style=\"display: table-cell;\">nonselection_glyph&nbsp;=&nbsp;Line(id='p1052', ...),</div></div><div class=\"p1059\" style=\"display: none;\"><div style=\"display: table-cell;\"></div><div style=\"display: table-cell;\">propagate_hover&nbsp;=&nbsp;False,</div></div><div class=\"p1059\" style=\"display: none;\"><div style=\"display: table-cell;\"></div><div style=\"display: table-cell;\">selection_glyph&nbsp;=&nbsp;'auto',</div></div><div class=\"p1059\" style=\"display: none;\"><div style=\"display: table-cell;\"></div><div style=\"display: table-cell;\">subscribed_events&nbsp;=&nbsp;PropertyValueSet(),</div></div><div class=\"p1059\" style=\"display: none;\"><div style=\"display: table-cell;\"></div><div style=\"display: table-cell;\">syncable&nbsp;=&nbsp;True,</div></div><div class=\"p1059\" style=\"display: none;\"><div style=\"display: table-cell;\"></div><div style=\"display: table-cell;\">tags&nbsp;=&nbsp;[],</div></div><div class=\"p1059\" style=\"display: none;\"><div style=\"display: table-cell;\"></div><div style=\"display: table-cell;\">view&nbsp;=&nbsp;CDSView(id='p1055', ...),</div></div><div class=\"p1059\" style=\"display: none;\"><div style=\"display: table-cell;\"></div><div style=\"display: table-cell;\">visible&nbsp;=&nbsp;True,</div></div><div class=\"p1059\" style=\"display: none;\"><div style=\"display: table-cell;\"></div><div style=\"display: table-cell;\">x_range_name&nbsp;=&nbsp;'default',</div></div><div class=\"p1059\" style=\"display: none;\"><div style=\"display: table-cell;\"></div><div style=\"display: table-cell;\">y_range_name&nbsp;=&nbsp;'default')</div></div></div>\n",
       "<script>\n",
       "(function() {\n",
       "  let expanded = false;\n",
       "  const ellipsis = document.getElementById(\"p1060\");\n",
       "  ellipsis.addEventListener(\"click\", function() {\n",
       "    const rows = document.getElementsByClassName(\"p1059\");\n",
       "    for (let i = 0; i < rows.length; i++) {\n",
       "      const el = rows[i];\n",
       "      el.style.display = expanded ? \"none\" : \"table-row\";\n",
       "    }\n",
       "    ellipsis.innerHTML = expanded ? \"&hellip;)\" : \"&lsaquo;&lsaquo;&lsaquo;\";\n",
       "    expanded = !expanded;\n",
       "  });\n",
       "})();\n",
       "</script>\n"
      ],
      "text/plain": [
       "GlyphRenderer(id='p1054', ...)"
      ]
     },
     "execution_count": 27,
     "metadata": {},
     "output_type": "execute_result"
    }
   ],
   "source": [
    "new_plot = figure(title=\"Amazon Spending Data\", x_axis_label='Order Dates', y_axis_label='Amount Spent')\n",
    "new_plot.line(df['Order Date'], df['Total Owed'], legend_label=\"Orders\", line_width=5)"
   ]
  },
  {
   "cell_type": "code",
   "execution_count": null,
   "metadata": {},
   "outputs": [],
   "source": [
    "show(new_plot)"
   ]
  },
  {
   "cell_type": "code",
   "execution_count": null,
   "metadata": {},
   "outputs": [],
   "source": [
    "new_plot = figure(title=\"Amazon Spending Data\", x_axis_label='Order Dates', y_axis_label='Amount Spent')\n",
    "new_plot.line(df['Order Date'], df['Total Owed'], legend_label=\"Total Paid\", color='black', line_width=5)\n",
    "new_plot.line(df['Order Date'], df['Unit Price'], legend_label=\"Item Price\", color='red', line_width=2)\n",
    "new_plot.line(df['Order Date'], df['Unit Price Tax'], legend_label=\"Tax\", color='pink', line_width=2)\n",
    "show(new_plot)"
   ]
  },
  {
   "cell_type": "code",
   "execution_count": null,
   "metadata": {},
   "outputs": [
    {
     "name": "stdout",
     "output_type": "stream",
     "text": [
      "Requirement already satisfied: plotly==5.14.1 in c:\\users\\charo\\appdata\\local\\programs\\python\\python310\\lib\\site-packages (5.14.1)\n",
      "Requirement already satisfied: packaging in c:\\users\\charo\\appdata\\roaming\\python\\python310\\site-packages (from plotly==5.14.1) (23.0)\n",
      "Requirement already satisfied: tenacity>=6.2.0 in c:\\users\\charo\\appdata\\local\\programs\\python\\python310\\lib\\site-packages (from plotly==5.14.1) (8.2.2)\n",
      "Note: you may need to restart the kernel to use updated packages.\n"
     ]
    },
    {
     "name": "stderr",
     "output_type": "stream",
     "text": [
      "\n",
      "[notice] A new release of pip is available: 23.0.1 -> 23.1.2\n",
      "[notice] To update, run: python.exe -m pip install --upgrade pip\n"
     ]
    }
   ],
   "source": [
    "pip install plotly==5.14.1"
   ]
  },
  {
   "cell_type": "code",
   "execution_count": null,
   "metadata": {},
   "outputs": [],
   "source": [
    "import plotly.express as px"
   ]
  },
  {
   "cell_type": "code",
   "execution_count": null,
   "metadata": {},
   "outputs": [
    {
     "data": {
      "application/vnd.plotly.v1+json": {
       "config": {
        "plotlyServerURL": "https://plot.ly"
       },
       "data": [
        {
         "hovertemplate": "Order Date=%{x}<br>Total Owed=%{y}<extra></extra>",
         "legendgroup": "",
         "marker": {
          "color": "#636efa",
          "symbol": "circle"
         },
         "mode": "markers",
         "name": "",
         "orientation": "v",
         "showlegend": false,
         "type": "scatter",
         "x": [
          "2023-04-25",
          "2023-04-23",
          "2023-04-20",
          "2023-04-20",
          "2023-03-27",
          "2023-03-24",
          "2023-03-22",
          "2023-03-22",
          "2023-03-06",
          "2023-03-06",
          "2023-02-21",
          "2023-02-21",
          "2023-02-21",
          "2023-02-21",
          "2023-02-21",
          "2023-02-21",
          "2023-02-21",
          "2023-02-21",
          "2023-02-21",
          "2023-02-21",
          "2023-02-21",
          "2023-02-21",
          "2023-02-21",
          "2023-02-14",
          "2023-01-12",
          "2023-01-09",
          "2023-01-09",
          "2023-01-09",
          "2023-01-06",
          "2023-01-06",
          "2023-01-03",
          "2022-12-29",
          "2022-12-24",
          "2022-12-13",
          "2022-12-13",
          "2022-12-12",
          "2022-12-08",
          "2022-12-08",
          "2022-12-08",
          "2022-12-08",
          "2022-12-08",
          "2022-12-08",
          "2022-12-08",
          "2022-12-08",
          "2022-12-08",
          "2022-12-08",
          "2022-12-08",
          "2022-12-08",
          "2022-12-01",
          "2022-12-01",
          "2022-12-01",
          "2022-12-01",
          "2022-12-01",
          "2022-11-29",
          "2022-11-29",
          "2022-11-29",
          "2022-11-28",
          "2022-11-26",
          "2022-11-26",
          "2022-11-26",
          "2022-11-07",
          "2022-11-07",
          "2022-11-07",
          "2022-11-07",
          "2022-11-07",
          "2022-11-07",
          "2022-11-07",
          "2022-11-07",
          "2022-10-31",
          "2022-10-31",
          "2022-10-31",
          "2022-10-31",
          "2022-10-20",
          "2022-09-25",
          "2022-09-01",
          "2022-08-30",
          "2022-08-30",
          "2022-08-30",
          "2022-08-30",
          "2022-08-25",
          "2022-08-23",
          "2022-05-24",
          "2022-05-20",
          "2022-05-20",
          "2022-04-29",
          "2022-04-29",
          "2022-04-29",
          "2022-04-29",
          "2022-04-05",
          "2022-03-18",
          "2022-02-17",
          "2022-02-17",
          "2022-01-31",
          "2022-01-16",
          "2022-01-16",
          "2022-01-11",
          "2022-01-03",
          "2022-01-03",
          "2021-12-13",
          "2021-11-29",
          "2021-11-15",
          "2021-11-03",
          "2021-11-03",
          "2021-11-02",
          "2021-10-19",
          "2021-10-19",
          "2021-10-19",
          "2021-10-19",
          "2021-10-19",
          "2021-10-03",
          "2021-10-03",
          "2021-10-03",
          "2021-09-21",
          "2021-09-21",
          "2021-09-11",
          "2021-09-10",
          "2021-09-10",
          "2021-09-10",
          "2021-09-10",
          "2021-09-10",
          "2021-09-10",
          "2021-09-10",
          "2021-09-10",
          "2021-09-10",
          "2021-09-06",
          "2021-09-01",
          "2021-09-01",
          "2021-08-26",
          "2021-08-21",
          "2021-07-11",
          "2021-07-09",
          "2021-07-09",
          "2021-07-07",
          "2021-07-07",
          "2021-07-07",
          "2021-04-25",
          "2021-02-07",
          "2021-02-01",
          "2021-01-20",
          "2021-01-07",
          "2021-01-07",
          "2021-01-03",
          "2020-12-28",
          "2020-12-19",
          "2020-12-19",
          "2020-12-19",
          "2020-12-17",
          "2020-12-17",
          "2020-12-15",
          "2020-12-09",
          "2020-12-09",
          "2020-12-09",
          "2020-12-01",
          "2020-12-01",
          "2020-12-01",
          "2020-12-01",
          "2020-11-30",
          "2020-11-28",
          "2020-11-15",
          "2020-11-02",
          "2020-09-20",
          "2020-09-20",
          "2020-09-20",
          "2020-09-20",
          "2020-08-23",
          "2020-08-23",
          "2020-08-23",
          "2020-08-13",
          "2020-08-13",
          "2020-08-09",
          "2020-08-09",
          "2020-08-09",
          "2020-08-09",
          "2020-07-02",
          "2020-07-01",
          "2020-07-01",
          "2020-06-23",
          "2020-05-22",
          "2020-05-22",
          "2020-05-13",
          "2020-05-13",
          "2020-05-03",
          "2020-05-03",
          "2020-05-03",
          "2020-04-28",
          "2020-04-28",
          "2020-04-21",
          "2020-04-21",
          "2020-03-14",
          "2020-03-14",
          "2020-03-14",
          "2020-03-14",
          "2020-03-14",
          "2020-02-10",
          "2020-02-05",
          "2020-02-05",
          "2020-02-05",
          "2020-02-04",
          "2020-02-04",
          "2020-02-04",
          "2020-02-04",
          "2020-01-21",
          "2020-01-21",
          "2020-01-21",
          "2020-01-20",
          "2020-01-20",
          "2020-01-20",
          "2020-01-20",
          "2020-01-20",
          "2020-01-20",
          "2019-12-15",
          "2019-12-05",
          "2019-12-05",
          "2019-12-02",
          "2019-11-24"
         ],
         "xaxis": "x",
         "y": [
          21.11,
          74.5,
          13.84,
          23.93,
          19.57,
          129.95,
          12.95,
          22.8,
          11.95,
          17.93,
          2.79,
          5.99,
          5.99,
          1.59,
          5.49,
          0,
          6.79,
          5.49,
          11.99,
          4.99,
          6.39,
          4.49,
          27.79,
          34.72,
          20.22,
          10.41,
          15.64,
          54.31,
          10.84,
          22.85,
          26.12,
          25.1,
          30,
          13.04,
          22.84,
          215.68,
          7.28,
          25.35,
          25.66,
          19.59,
          47.84,
          13.04,
          17.06,
          6.54,
          28.04,
          8.73,
          10.37,
          8.73,
          20.75,
          10.37,
          16.38,
          10.91,
          26.51,
          15.28,
          14.19,
          16.36,
          27.2,
          27.3,
          20.44,
          22.09,
          12.13,
          18.52,
          13.49,
          15.82,
          15.27,
          16.36,
          23.93,
          20.35,
          29.39,
          8.07,
          11.97,
          21.76,
          17.94,
          35.92,
          3.59,
          12.22,
          16.19,
          0,
          14.67,
          22.84,
          56.6,
          12.97,
          13.08,
          14.18,
          36.45,
          30.02,
          6.42,
          7.5,
          16.06,
          258.01,
          15.36,
          24.78,
          16.6,
          14.2,
          5.31,
          21.73,
          30.53,
          18.96,
          25.87,
          50,
          11.75,
          19.88,
          10.1,
          50,
          18.56,
          22.93,
          10.91,
          12.98,
          12.01,
          6.85,
          10.71,
          16.08,
          14.06,
          11.54,
          22.5,
          7.99,
          3.49,
          4.49,
          5.99,
          1.77,
          3.29,
          5.99,
          5.29,
          3.29,
          19.91,
          17.13,
          27.86,
          19.64,
          20.06,
          36.84,
          32.16,
          31.09,
          6.42,
          13.93,
          16.08,
          27.06,
          33.22,
          20,
          16.28,
          39.13,
          24.12,
          21.73,
          17.41,
          26.81,
          10.91,
          32.76,
          14.36,
          14.19,
          27.56,
          19.65,
          26.16,
          43.69,
          47.97,
          21.84,
          24.02,
          18.54,
          13.08,
          25.5,
          21.82,
          33.22,
          24.66,
          3.21,
          0,
          0,
          15.99,
          9.97,
          9.64,
          21.7,
          13.92,
          13.87,
          24.55,
          8.04,
          30.6,
          19.14,
          21.82,
          16.67,
          31.23,
          15.22,
          17.97,
          18.92,
          0,
          16.99,
          17.99,
          22.99,
          6.99,
          43.69,
          8.73,
          9.82,
          35,
          17.94,
          7.57,
          12.58,
          34.28,
          16.07,
          20,
          20.07,
          64.04,
          13.93,
          3.2,
          3.21,
          3.21,
          9.99,
          9.99,
          25.95,
          22.85,
          7.99,
          0,
          0,
          6.99,
          20.9,
          5.98,
          12.54,
          21.78,
          16.68,
          18.2
         ],
         "yaxis": "y"
        }
       ],
       "layout": {
        "legend": {
         "tracegroupgap": 0
        },
        "margin": {
         "t": 60
        },
        "template": {
         "data": {
          "bar": [
           {
            "error_x": {
             "color": "#2a3f5f"
            },
            "error_y": {
             "color": "#2a3f5f"
            },
            "marker": {
             "line": {
              "color": "#E5ECF6",
              "width": 0.5
             },
             "pattern": {
              "fillmode": "overlay",
              "size": 10,
              "solidity": 0.2
             }
            },
            "type": "bar"
           }
          ],
          "barpolar": [
           {
            "marker": {
             "line": {
              "color": "#E5ECF6",
              "width": 0.5
             },
             "pattern": {
              "fillmode": "overlay",
              "size": 10,
              "solidity": 0.2
             }
            },
            "type": "barpolar"
           }
          ],
          "carpet": [
           {
            "aaxis": {
             "endlinecolor": "#2a3f5f",
             "gridcolor": "white",
             "linecolor": "white",
             "minorgridcolor": "white",
             "startlinecolor": "#2a3f5f"
            },
            "baxis": {
             "endlinecolor": "#2a3f5f",
             "gridcolor": "white",
             "linecolor": "white",
             "minorgridcolor": "white",
             "startlinecolor": "#2a3f5f"
            },
            "type": "carpet"
           }
          ],
          "choropleth": [
           {
            "colorbar": {
             "outlinewidth": 0,
             "ticks": ""
            },
            "type": "choropleth"
           }
          ],
          "contour": [
           {
            "colorbar": {
             "outlinewidth": 0,
             "ticks": ""
            },
            "colorscale": [
             [
              0,
              "#0d0887"
             ],
             [
              0.1111111111111111,
              "#46039f"
             ],
             [
              0.2222222222222222,
              "#7201a8"
             ],
             [
              0.3333333333333333,
              "#9c179e"
             ],
             [
              0.4444444444444444,
              "#bd3786"
             ],
             [
              0.5555555555555556,
              "#d8576b"
             ],
             [
              0.6666666666666666,
              "#ed7953"
             ],
             [
              0.7777777777777778,
              "#fb9f3a"
             ],
             [
              0.8888888888888888,
              "#fdca26"
             ],
             [
              1,
              "#f0f921"
             ]
            ],
            "type": "contour"
           }
          ],
          "contourcarpet": [
           {
            "colorbar": {
             "outlinewidth": 0,
             "ticks": ""
            },
            "type": "contourcarpet"
           }
          ],
          "heatmap": [
           {
            "colorbar": {
             "outlinewidth": 0,
             "ticks": ""
            },
            "colorscale": [
             [
              0,
              "#0d0887"
             ],
             [
              0.1111111111111111,
              "#46039f"
             ],
             [
              0.2222222222222222,
              "#7201a8"
             ],
             [
              0.3333333333333333,
              "#9c179e"
             ],
             [
              0.4444444444444444,
              "#bd3786"
             ],
             [
              0.5555555555555556,
              "#d8576b"
             ],
             [
              0.6666666666666666,
              "#ed7953"
             ],
             [
              0.7777777777777778,
              "#fb9f3a"
             ],
             [
              0.8888888888888888,
              "#fdca26"
             ],
             [
              1,
              "#f0f921"
             ]
            ],
            "type": "heatmap"
           }
          ],
          "heatmapgl": [
           {
            "colorbar": {
             "outlinewidth": 0,
             "ticks": ""
            },
            "colorscale": [
             [
              0,
              "#0d0887"
             ],
             [
              0.1111111111111111,
              "#46039f"
             ],
             [
              0.2222222222222222,
              "#7201a8"
             ],
             [
              0.3333333333333333,
              "#9c179e"
             ],
             [
              0.4444444444444444,
              "#bd3786"
             ],
             [
              0.5555555555555556,
              "#d8576b"
             ],
             [
              0.6666666666666666,
              "#ed7953"
             ],
             [
              0.7777777777777778,
              "#fb9f3a"
             ],
             [
              0.8888888888888888,
              "#fdca26"
             ],
             [
              1,
              "#f0f921"
             ]
            ],
            "type": "heatmapgl"
           }
          ],
          "histogram": [
           {
            "marker": {
             "pattern": {
              "fillmode": "overlay",
              "size": 10,
              "solidity": 0.2
             }
            },
            "type": "histogram"
           }
          ],
          "histogram2d": [
           {
            "colorbar": {
             "outlinewidth": 0,
             "ticks": ""
            },
            "colorscale": [
             [
              0,
              "#0d0887"
             ],
             [
              0.1111111111111111,
              "#46039f"
             ],
             [
              0.2222222222222222,
              "#7201a8"
             ],
             [
              0.3333333333333333,
              "#9c179e"
             ],
             [
              0.4444444444444444,
              "#bd3786"
             ],
             [
              0.5555555555555556,
              "#d8576b"
             ],
             [
              0.6666666666666666,
              "#ed7953"
             ],
             [
              0.7777777777777778,
              "#fb9f3a"
             ],
             [
              0.8888888888888888,
              "#fdca26"
             ],
             [
              1,
              "#f0f921"
             ]
            ],
            "type": "histogram2d"
           }
          ],
          "histogram2dcontour": [
           {
            "colorbar": {
             "outlinewidth": 0,
             "ticks": ""
            },
            "colorscale": [
             [
              0,
              "#0d0887"
             ],
             [
              0.1111111111111111,
              "#46039f"
             ],
             [
              0.2222222222222222,
              "#7201a8"
             ],
             [
              0.3333333333333333,
              "#9c179e"
             ],
             [
              0.4444444444444444,
              "#bd3786"
             ],
             [
              0.5555555555555556,
              "#d8576b"
             ],
             [
              0.6666666666666666,
              "#ed7953"
             ],
             [
              0.7777777777777778,
              "#fb9f3a"
             ],
             [
              0.8888888888888888,
              "#fdca26"
             ],
             [
              1,
              "#f0f921"
             ]
            ],
            "type": "histogram2dcontour"
           }
          ],
          "mesh3d": [
           {
            "colorbar": {
             "outlinewidth": 0,
             "ticks": ""
            },
            "type": "mesh3d"
           }
          ],
          "parcoords": [
           {
            "line": {
             "colorbar": {
              "outlinewidth": 0,
              "ticks": ""
             }
            },
            "type": "parcoords"
           }
          ],
          "pie": [
           {
            "automargin": true,
            "type": "pie"
           }
          ],
          "scatter": [
           {
            "fillpattern": {
             "fillmode": "overlay",
             "size": 10,
             "solidity": 0.2
            },
            "type": "scatter"
           }
          ],
          "scatter3d": [
           {
            "line": {
             "colorbar": {
              "outlinewidth": 0,
              "ticks": ""
             }
            },
            "marker": {
             "colorbar": {
              "outlinewidth": 0,
              "ticks": ""
             }
            },
            "type": "scatter3d"
           }
          ],
          "scattercarpet": [
           {
            "marker": {
             "colorbar": {
              "outlinewidth": 0,
              "ticks": ""
             }
            },
            "type": "scattercarpet"
           }
          ],
          "scattergeo": [
           {
            "marker": {
             "colorbar": {
              "outlinewidth": 0,
              "ticks": ""
             }
            },
            "type": "scattergeo"
           }
          ],
          "scattergl": [
           {
            "marker": {
             "colorbar": {
              "outlinewidth": 0,
              "ticks": ""
             }
            },
            "type": "scattergl"
           }
          ],
          "scattermapbox": [
           {
            "marker": {
             "colorbar": {
              "outlinewidth": 0,
              "ticks": ""
             }
            },
            "type": "scattermapbox"
           }
          ],
          "scatterpolar": [
           {
            "marker": {
             "colorbar": {
              "outlinewidth": 0,
              "ticks": ""
             }
            },
            "type": "scatterpolar"
           }
          ],
          "scatterpolargl": [
           {
            "marker": {
             "colorbar": {
              "outlinewidth": 0,
              "ticks": ""
             }
            },
            "type": "scatterpolargl"
           }
          ],
          "scatterternary": [
           {
            "marker": {
             "colorbar": {
              "outlinewidth": 0,
              "ticks": ""
             }
            },
            "type": "scatterternary"
           }
          ],
          "surface": [
           {
            "colorbar": {
             "outlinewidth": 0,
             "ticks": ""
            },
            "colorscale": [
             [
              0,
              "#0d0887"
             ],
             [
              0.1111111111111111,
              "#46039f"
             ],
             [
              0.2222222222222222,
              "#7201a8"
             ],
             [
              0.3333333333333333,
              "#9c179e"
             ],
             [
              0.4444444444444444,
              "#bd3786"
             ],
             [
              0.5555555555555556,
              "#d8576b"
             ],
             [
              0.6666666666666666,
              "#ed7953"
             ],
             [
              0.7777777777777778,
              "#fb9f3a"
             ],
             [
              0.8888888888888888,
              "#fdca26"
             ],
             [
              1,
              "#f0f921"
             ]
            ],
            "type": "surface"
           }
          ],
          "table": [
           {
            "cells": {
             "fill": {
              "color": "#EBF0F8"
             },
             "line": {
              "color": "white"
             }
            },
            "header": {
             "fill": {
              "color": "#C8D4E3"
             },
             "line": {
              "color": "white"
             }
            },
            "type": "table"
           }
          ]
         },
         "layout": {
          "annotationdefaults": {
           "arrowcolor": "#2a3f5f",
           "arrowhead": 0,
           "arrowwidth": 1
          },
          "autotypenumbers": "strict",
          "coloraxis": {
           "colorbar": {
            "outlinewidth": 0,
            "ticks": ""
           }
          },
          "colorscale": {
           "diverging": [
            [
             0,
             "#8e0152"
            ],
            [
             0.1,
             "#c51b7d"
            ],
            [
             0.2,
             "#de77ae"
            ],
            [
             0.3,
             "#f1b6da"
            ],
            [
             0.4,
             "#fde0ef"
            ],
            [
             0.5,
             "#f7f7f7"
            ],
            [
             0.6,
             "#e6f5d0"
            ],
            [
             0.7,
             "#b8e186"
            ],
            [
             0.8,
             "#7fbc41"
            ],
            [
             0.9,
             "#4d9221"
            ],
            [
             1,
             "#276419"
            ]
           ],
           "sequential": [
            [
             0,
             "#0d0887"
            ],
            [
             0.1111111111111111,
             "#46039f"
            ],
            [
             0.2222222222222222,
             "#7201a8"
            ],
            [
             0.3333333333333333,
             "#9c179e"
            ],
            [
             0.4444444444444444,
             "#bd3786"
            ],
            [
             0.5555555555555556,
             "#d8576b"
            ],
            [
             0.6666666666666666,
             "#ed7953"
            ],
            [
             0.7777777777777778,
             "#fb9f3a"
            ],
            [
             0.8888888888888888,
             "#fdca26"
            ],
            [
             1,
             "#f0f921"
            ]
           ],
           "sequentialminus": [
            [
             0,
             "#0d0887"
            ],
            [
             0.1111111111111111,
             "#46039f"
            ],
            [
             0.2222222222222222,
             "#7201a8"
            ],
            [
             0.3333333333333333,
             "#9c179e"
            ],
            [
             0.4444444444444444,
             "#bd3786"
            ],
            [
             0.5555555555555556,
             "#d8576b"
            ],
            [
             0.6666666666666666,
             "#ed7953"
            ],
            [
             0.7777777777777778,
             "#fb9f3a"
            ],
            [
             0.8888888888888888,
             "#fdca26"
            ],
            [
             1,
             "#f0f921"
            ]
           ]
          },
          "colorway": [
           "#636efa",
           "#EF553B",
           "#00cc96",
           "#ab63fa",
           "#FFA15A",
           "#19d3f3",
           "#FF6692",
           "#B6E880",
           "#FF97FF",
           "#FECB52"
          ],
          "font": {
           "color": "#2a3f5f"
          },
          "geo": {
           "bgcolor": "white",
           "lakecolor": "white",
           "landcolor": "#E5ECF6",
           "showlakes": true,
           "showland": true,
           "subunitcolor": "white"
          },
          "hoverlabel": {
           "align": "left"
          },
          "hovermode": "closest",
          "mapbox": {
           "style": "light"
          },
          "paper_bgcolor": "white",
          "plot_bgcolor": "#E5ECF6",
          "polar": {
           "angularaxis": {
            "gridcolor": "white",
            "linecolor": "white",
            "ticks": ""
           },
           "bgcolor": "#E5ECF6",
           "radialaxis": {
            "gridcolor": "white",
            "linecolor": "white",
            "ticks": ""
           }
          },
          "scene": {
           "xaxis": {
            "backgroundcolor": "#E5ECF6",
            "gridcolor": "white",
            "gridwidth": 2,
            "linecolor": "white",
            "showbackground": true,
            "ticks": "",
            "zerolinecolor": "white"
           },
           "yaxis": {
            "backgroundcolor": "#E5ECF6",
            "gridcolor": "white",
            "gridwidth": 2,
            "linecolor": "white",
            "showbackground": true,
            "ticks": "",
            "zerolinecolor": "white"
           },
           "zaxis": {
            "backgroundcolor": "#E5ECF6",
            "gridcolor": "white",
            "gridwidth": 2,
            "linecolor": "white",
            "showbackground": true,
            "ticks": "",
            "zerolinecolor": "white"
           }
          },
          "shapedefaults": {
           "line": {
            "color": "#2a3f5f"
           }
          },
          "ternary": {
           "aaxis": {
            "gridcolor": "white",
            "linecolor": "white",
            "ticks": ""
           },
           "baxis": {
            "gridcolor": "white",
            "linecolor": "white",
            "ticks": ""
           },
           "bgcolor": "#E5ECF6",
           "caxis": {
            "gridcolor": "white",
            "linecolor": "white",
            "ticks": ""
           }
          },
          "title": {
           "x": 0.05
          },
          "xaxis": {
           "automargin": true,
           "gridcolor": "white",
           "linecolor": "white",
           "ticks": "",
           "title": {
            "standoff": 15
           },
           "zerolinecolor": "white",
           "zerolinewidth": 2
          },
          "yaxis": {
           "automargin": true,
           "gridcolor": "white",
           "linecolor": "white",
           "ticks": "",
           "title": {
            "standoff": 15
           },
           "zerolinecolor": "white",
           "zerolinewidth": 2
          }
         }
        },
        "xaxis": {
         "anchor": "y",
         "domain": [
          0,
          1
         ],
         "title": {
          "text": "Order Date"
         }
        },
        "yaxis": {
         "anchor": "x",
         "domain": [
          0,
          1
         ],
         "title": {
          "text": "Total Owed"
         }
        }
       }
      }
     },
     "metadata": {},
     "output_type": "display_data"
    }
   ],
   "source": [
    "scattered = px.scatter(df, 'Order Date', 'Total Owed')\n",
    "scattered.show()"
   ]
  },
  {
   "cell_type": "code",
   "execution_count": null,
   "metadata": {},
   "outputs": [
    {
     "data": {
      "application/vnd.plotly.v1+json": {
       "config": {
        "plotlyServerURL": "https://plot.ly"
       },
       "data": [
        {
         "hovertemplate": "Order Date=%{x}<br>Total Owed=%{y}<extra></extra>",
         "legendgroup": "",
         "marker": {
          "color": "#636efa",
          "symbol": "circle"
         },
         "mode": "markers",
         "name": "",
         "orientation": "v",
         "showlegend": false,
         "type": "scatter",
         "x": [
          "2023-04-25",
          "2023-04-23",
          "2023-04-20",
          "2023-04-20",
          "2023-03-27",
          "2023-03-24",
          "2023-03-22",
          "2023-03-22",
          "2023-03-06",
          "2023-03-06",
          "2023-02-21",
          "2023-02-21",
          "2023-02-21",
          "2023-02-21",
          "2023-02-21",
          "2023-02-21",
          "2023-02-21",
          "2023-02-21",
          "2023-02-21",
          "2023-02-21",
          "2023-02-21",
          "2023-02-21",
          "2023-02-21",
          "2023-02-14",
          "2023-01-12",
          "2023-01-09",
          "2023-01-09",
          "2023-01-09",
          "2023-01-06",
          "2023-01-06",
          "2023-01-03",
          "2022-12-29",
          "2022-12-24",
          "2022-12-13",
          "2022-12-13",
          "2022-12-12",
          "2022-12-08",
          "2022-12-08",
          "2022-12-08",
          "2022-12-08",
          "2022-12-08",
          "2022-12-08",
          "2022-12-08",
          "2022-12-08",
          "2022-12-08",
          "2022-12-08",
          "2022-12-08",
          "2022-12-08",
          "2022-12-01",
          "2022-12-01",
          "2022-12-01",
          "2022-12-01",
          "2022-12-01",
          "2022-11-29",
          "2022-11-29",
          "2022-11-29",
          "2022-11-28",
          "2022-11-26",
          "2022-11-26",
          "2022-11-26",
          "2022-11-07",
          "2022-11-07",
          "2022-11-07",
          "2022-11-07",
          "2022-11-07",
          "2022-11-07",
          "2022-11-07",
          "2022-11-07",
          "2022-10-31",
          "2022-10-31",
          "2022-10-31",
          "2022-10-31",
          "2022-10-20",
          "2022-09-25",
          "2022-09-01",
          "2022-08-30",
          "2022-08-30",
          "2022-08-30",
          "2022-08-30",
          "2022-08-25",
          "2022-08-23",
          "2022-05-24",
          "2022-05-20",
          "2022-05-20",
          "2022-04-29",
          "2022-04-29",
          "2022-04-29",
          "2022-04-29",
          "2022-04-05",
          "2022-03-18",
          "2022-02-17",
          "2022-02-17",
          "2022-01-31",
          "2022-01-16",
          "2022-01-16",
          "2022-01-11",
          "2022-01-03",
          "2022-01-03",
          "2021-12-13",
          "2021-11-29",
          "2021-11-15",
          "2021-11-03",
          "2021-11-03",
          "2021-11-02",
          "2021-10-19",
          "2021-10-19",
          "2021-10-19",
          "2021-10-19",
          "2021-10-19",
          "2021-10-03",
          "2021-10-03",
          "2021-10-03",
          "2021-09-21",
          "2021-09-21",
          "2021-09-11",
          "2021-09-10",
          "2021-09-10",
          "2021-09-10",
          "2021-09-10",
          "2021-09-10",
          "2021-09-10",
          "2021-09-10",
          "2021-09-10",
          "2021-09-10",
          "2021-09-06",
          "2021-09-01",
          "2021-09-01",
          "2021-08-26",
          "2021-08-21",
          "2021-07-11",
          "2021-07-09",
          "2021-07-09",
          "2021-07-07",
          "2021-07-07",
          "2021-07-07",
          "2021-04-25",
          "2021-02-07",
          "2021-02-01",
          "2021-01-20",
          "2021-01-07",
          "2021-01-07",
          "2021-01-03",
          "2020-12-28",
          "2020-12-19",
          "2020-12-19",
          "2020-12-19",
          "2020-12-17",
          "2020-12-17",
          "2020-12-15",
          "2020-12-09",
          "2020-12-09",
          "2020-12-09",
          "2020-12-01",
          "2020-12-01",
          "2020-12-01",
          "2020-12-01",
          "2020-11-30",
          "2020-11-28",
          "2020-11-15",
          "2020-11-02",
          "2020-09-20",
          "2020-09-20",
          "2020-09-20",
          "2020-09-20",
          "2020-08-23",
          "2020-08-23",
          "2020-08-23",
          "2020-08-13",
          "2020-08-13",
          "2020-08-09",
          "2020-08-09",
          "2020-08-09",
          "2020-08-09",
          "2020-07-02",
          "2020-07-01",
          "2020-07-01",
          "2020-06-23",
          "2020-05-22",
          "2020-05-22",
          "2020-05-13",
          "2020-05-13",
          "2020-05-03",
          "2020-05-03",
          "2020-05-03",
          "2020-04-28",
          "2020-04-28",
          "2020-04-21",
          "2020-04-21",
          "2020-03-14",
          "2020-03-14",
          "2020-03-14",
          "2020-03-14",
          "2020-03-14",
          "2020-02-10",
          "2020-02-05",
          "2020-02-05",
          "2020-02-05",
          "2020-02-04",
          "2020-02-04",
          "2020-02-04",
          "2020-02-04",
          "2020-01-21",
          "2020-01-21",
          "2020-01-21",
          "2020-01-20",
          "2020-01-20",
          "2020-01-20",
          "2020-01-20",
          "2020-01-20",
          "2020-01-20",
          "2019-12-15",
          "2019-12-05",
          "2019-12-05",
          "2019-12-02",
          "2019-11-24"
         ],
         "xaxis": "x",
         "y": [
          21.11,
          74.5,
          13.84,
          23.93,
          19.57,
          129.95,
          12.95,
          22.8,
          11.95,
          17.93,
          2.79,
          5.99,
          5.99,
          1.59,
          5.49,
          0,
          6.79,
          5.49,
          11.99,
          4.99,
          6.39,
          4.49,
          27.79,
          34.72,
          20.22,
          10.41,
          15.64,
          54.31,
          10.84,
          22.85,
          26.12,
          25.1,
          30,
          13.04,
          22.84,
          215.68,
          7.28,
          25.35,
          25.66,
          19.59,
          47.84,
          13.04,
          17.06,
          6.54,
          28.04,
          8.73,
          10.37,
          8.73,
          20.75,
          10.37,
          16.38,
          10.91,
          26.51,
          15.28,
          14.19,
          16.36,
          27.2,
          27.3,
          20.44,
          22.09,
          12.13,
          18.52,
          13.49,
          15.82,
          15.27,
          16.36,
          23.93,
          20.35,
          29.39,
          8.07,
          11.97,
          21.76,
          17.94,
          35.92,
          3.59,
          12.22,
          16.19,
          0,
          14.67,
          22.84,
          56.6,
          12.97,
          13.08,
          14.18,
          36.45,
          30.02,
          6.42,
          7.5,
          16.06,
          258.01,
          15.36,
          24.78,
          16.6,
          14.2,
          5.31,
          21.73,
          30.53,
          18.96,
          25.87,
          50,
          11.75,
          19.88,
          10.1,
          50,
          18.56,
          22.93,
          10.91,
          12.98,
          12.01,
          6.85,
          10.71,
          16.08,
          14.06,
          11.54,
          22.5,
          7.99,
          3.49,
          4.49,
          5.99,
          1.77,
          3.29,
          5.99,
          5.29,
          3.29,
          19.91,
          17.13,
          27.86,
          19.64,
          20.06,
          36.84,
          32.16,
          31.09,
          6.42,
          13.93,
          16.08,
          27.06,
          33.22,
          20,
          16.28,
          39.13,
          24.12,
          21.73,
          17.41,
          26.81,
          10.91,
          32.76,
          14.36,
          14.19,
          27.56,
          19.65,
          26.16,
          43.69,
          47.97,
          21.84,
          24.02,
          18.54,
          13.08,
          25.5,
          21.82,
          33.22,
          24.66,
          3.21,
          0,
          0,
          15.99,
          9.97,
          9.64,
          21.7,
          13.92,
          13.87,
          24.55,
          8.04,
          30.6,
          19.14,
          21.82,
          16.67,
          31.23,
          15.22,
          17.97,
          18.92,
          0,
          16.99,
          17.99,
          22.99,
          6.99,
          43.69,
          8.73,
          9.82,
          35,
          17.94,
          7.57,
          12.58,
          34.28,
          16.07,
          20,
          20.07,
          64.04,
          13.93,
          3.2,
          3.21,
          3.21,
          9.99,
          9.99,
          25.95,
          22.85,
          7.99,
          0,
          0,
          6.99,
          20.9,
          5.98,
          12.54,
          21.78,
          16.68,
          18.2
         ],
         "yaxis": "y"
        }
       ],
       "layout": {
        "legend": {
         "tracegroupgap": 0
        },
        "margin": {
         "t": 60
        },
        "template": {
         "data": {
          "bar": [
           {
            "error_x": {
             "color": "#2a3f5f"
            },
            "error_y": {
             "color": "#2a3f5f"
            },
            "marker": {
             "line": {
              "color": "#E5ECF6",
              "width": 0.5
             },
             "pattern": {
              "fillmode": "overlay",
              "size": 10,
              "solidity": 0.2
             }
            },
            "type": "bar"
           }
          ],
          "barpolar": [
           {
            "marker": {
             "line": {
              "color": "#E5ECF6",
              "width": 0.5
             },
             "pattern": {
              "fillmode": "overlay",
              "size": 10,
              "solidity": 0.2
             }
            },
            "type": "barpolar"
           }
          ],
          "carpet": [
           {
            "aaxis": {
             "endlinecolor": "#2a3f5f",
             "gridcolor": "white",
             "linecolor": "white",
             "minorgridcolor": "white",
             "startlinecolor": "#2a3f5f"
            },
            "baxis": {
             "endlinecolor": "#2a3f5f",
             "gridcolor": "white",
             "linecolor": "white",
             "minorgridcolor": "white",
             "startlinecolor": "#2a3f5f"
            },
            "type": "carpet"
           }
          ],
          "choropleth": [
           {
            "colorbar": {
             "outlinewidth": 0,
             "ticks": ""
            },
            "type": "choropleth"
           }
          ],
          "contour": [
           {
            "colorbar": {
             "outlinewidth": 0,
             "ticks": ""
            },
            "colorscale": [
             [
              0,
              "#0d0887"
             ],
             [
              0.1111111111111111,
              "#46039f"
             ],
             [
              0.2222222222222222,
              "#7201a8"
             ],
             [
              0.3333333333333333,
              "#9c179e"
             ],
             [
              0.4444444444444444,
              "#bd3786"
             ],
             [
              0.5555555555555556,
              "#d8576b"
             ],
             [
              0.6666666666666666,
              "#ed7953"
             ],
             [
              0.7777777777777778,
              "#fb9f3a"
             ],
             [
              0.8888888888888888,
              "#fdca26"
             ],
             [
              1,
              "#f0f921"
             ]
            ],
            "type": "contour"
           }
          ],
          "contourcarpet": [
           {
            "colorbar": {
             "outlinewidth": 0,
             "ticks": ""
            },
            "type": "contourcarpet"
           }
          ],
          "heatmap": [
           {
            "colorbar": {
             "outlinewidth": 0,
             "ticks": ""
            },
            "colorscale": [
             [
              0,
              "#0d0887"
             ],
             [
              0.1111111111111111,
              "#46039f"
             ],
             [
              0.2222222222222222,
              "#7201a8"
             ],
             [
              0.3333333333333333,
              "#9c179e"
             ],
             [
              0.4444444444444444,
              "#bd3786"
             ],
             [
              0.5555555555555556,
              "#d8576b"
             ],
             [
              0.6666666666666666,
              "#ed7953"
             ],
             [
              0.7777777777777778,
              "#fb9f3a"
             ],
             [
              0.8888888888888888,
              "#fdca26"
             ],
             [
              1,
              "#f0f921"
             ]
            ],
            "type": "heatmap"
           }
          ],
          "heatmapgl": [
           {
            "colorbar": {
             "outlinewidth": 0,
             "ticks": ""
            },
            "colorscale": [
             [
              0,
              "#0d0887"
             ],
             [
              0.1111111111111111,
              "#46039f"
             ],
             [
              0.2222222222222222,
              "#7201a8"
             ],
             [
              0.3333333333333333,
              "#9c179e"
             ],
             [
              0.4444444444444444,
              "#bd3786"
             ],
             [
              0.5555555555555556,
              "#d8576b"
             ],
             [
              0.6666666666666666,
              "#ed7953"
             ],
             [
              0.7777777777777778,
              "#fb9f3a"
             ],
             [
              0.8888888888888888,
              "#fdca26"
             ],
             [
              1,
              "#f0f921"
             ]
            ],
            "type": "heatmapgl"
           }
          ],
          "histogram": [
           {
            "marker": {
             "pattern": {
              "fillmode": "overlay",
              "size": 10,
              "solidity": 0.2
             }
            },
            "type": "histogram"
           }
          ],
          "histogram2d": [
           {
            "colorbar": {
             "outlinewidth": 0,
             "ticks": ""
            },
            "colorscale": [
             [
              0,
              "#0d0887"
             ],
             [
              0.1111111111111111,
              "#46039f"
             ],
             [
              0.2222222222222222,
              "#7201a8"
             ],
             [
              0.3333333333333333,
              "#9c179e"
             ],
             [
              0.4444444444444444,
              "#bd3786"
             ],
             [
              0.5555555555555556,
              "#d8576b"
             ],
             [
              0.6666666666666666,
              "#ed7953"
             ],
             [
              0.7777777777777778,
              "#fb9f3a"
             ],
             [
              0.8888888888888888,
              "#fdca26"
             ],
             [
              1,
              "#f0f921"
             ]
            ],
            "type": "histogram2d"
           }
          ],
          "histogram2dcontour": [
           {
            "colorbar": {
             "outlinewidth": 0,
             "ticks": ""
            },
            "colorscale": [
             [
              0,
              "#0d0887"
             ],
             [
              0.1111111111111111,
              "#46039f"
             ],
             [
              0.2222222222222222,
              "#7201a8"
             ],
             [
              0.3333333333333333,
              "#9c179e"
             ],
             [
              0.4444444444444444,
              "#bd3786"
             ],
             [
              0.5555555555555556,
              "#d8576b"
             ],
             [
              0.6666666666666666,
              "#ed7953"
             ],
             [
              0.7777777777777778,
              "#fb9f3a"
             ],
             [
              0.8888888888888888,
              "#fdca26"
             ],
             [
              1,
              "#f0f921"
             ]
            ],
            "type": "histogram2dcontour"
           }
          ],
          "mesh3d": [
           {
            "colorbar": {
             "outlinewidth": 0,
             "ticks": ""
            },
            "type": "mesh3d"
           }
          ],
          "parcoords": [
           {
            "line": {
             "colorbar": {
              "outlinewidth": 0,
              "ticks": ""
             }
            },
            "type": "parcoords"
           }
          ],
          "pie": [
           {
            "automargin": true,
            "type": "pie"
           }
          ],
          "scatter": [
           {
            "fillpattern": {
             "fillmode": "overlay",
             "size": 10,
             "solidity": 0.2
            },
            "type": "scatter"
           }
          ],
          "scatter3d": [
           {
            "line": {
             "colorbar": {
              "outlinewidth": 0,
              "ticks": ""
             }
            },
            "marker": {
             "colorbar": {
              "outlinewidth": 0,
              "ticks": ""
             }
            },
            "type": "scatter3d"
           }
          ],
          "scattercarpet": [
           {
            "marker": {
             "colorbar": {
              "outlinewidth": 0,
              "ticks": ""
             }
            },
            "type": "scattercarpet"
           }
          ],
          "scattergeo": [
           {
            "marker": {
             "colorbar": {
              "outlinewidth": 0,
              "ticks": ""
             }
            },
            "type": "scattergeo"
           }
          ],
          "scattergl": [
           {
            "marker": {
             "colorbar": {
              "outlinewidth": 0,
              "ticks": ""
             }
            },
            "type": "scattergl"
           }
          ],
          "scattermapbox": [
           {
            "marker": {
             "colorbar": {
              "outlinewidth": 0,
              "ticks": ""
             }
            },
            "type": "scattermapbox"
           }
          ],
          "scatterpolar": [
           {
            "marker": {
             "colorbar": {
              "outlinewidth": 0,
              "ticks": ""
             }
            },
            "type": "scatterpolar"
           }
          ],
          "scatterpolargl": [
           {
            "marker": {
             "colorbar": {
              "outlinewidth": 0,
              "ticks": ""
             }
            },
            "type": "scatterpolargl"
           }
          ],
          "scatterternary": [
           {
            "marker": {
             "colorbar": {
              "outlinewidth": 0,
              "ticks": ""
             }
            },
            "type": "scatterternary"
           }
          ],
          "surface": [
           {
            "colorbar": {
             "outlinewidth": 0,
             "ticks": ""
            },
            "colorscale": [
             [
              0,
              "#0d0887"
             ],
             [
              0.1111111111111111,
              "#46039f"
             ],
             [
              0.2222222222222222,
              "#7201a8"
             ],
             [
              0.3333333333333333,
              "#9c179e"
             ],
             [
              0.4444444444444444,
              "#bd3786"
             ],
             [
              0.5555555555555556,
              "#d8576b"
             ],
             [
              0.6666666666666666,
              "#ed7953"
             ],
             [
              0.7777777777777778,
              "#fb9f3a"
             ],
             [
              0.8888888888888888,
              "#fdca26"
             ],
             [
              1,
              "#f0f921"
             ]
            ],
            "type": "surface"
           }
          ],
          "table": [
           {
            "cells": {
             "fill": {
              "color": "#EBF0F8"
             },
             "line": {
              "color": "white"
             }
            },
            "header": {
             "fill": {
              "color": "#C8D4E3"
             },
             "line": {
              "color": "white"
             }
            },
            "type": "table"
           }
          ]
         },
         "layout": {
          "annotationdefaults": {
           "arrowcolor": "#2a3f5f",
           "arrowhead": 0,
           "arrowwidth": 1
          },
          "autotypenumbers": "strict",
          "coloraxis": {
           "colorbar": {
            "outlinewidth": 0,
            "ticks": ""
           }
          },
          "colorscale": {
           "diverging": [
            [
             0,
             "#8e0152"
            ],
            [
             0.1,
             "#c51b7d"
            ],
            [
             0.2,
             "#de77ae"
            ],
            [
             0.3,
             "#f1b6da"
            ],
            [
             0.4,
             "#fde0ef"
            ],
            [
             0.5,
             "#f7f7f7"
            ],
            [
             0.6,
             "#e6f5d0"
            ],
            [
             0.7,
             "#b8e186"
            ],
            [
             0.8,
             "#7fbc41"
            ],
            [
             0.9,
             "#4d9221"
            ],
            [
             1,
             "#276419"
            ]
           ],
           "sequential": [
            [
             0,
             "#0d0887"
            ],
            [
             0.1111111111111111,
             "#46039f"
            ],
            [
             0.2222222222222222,
             "#7201a8"
            ],
            [
             0.3333333333333333,
             "#9c179e"
            ],
            [
             0.4444444444444444,
             "#bd3786"
            ],
            [
             0.5555555555555556,
             "#d8576b"
            ],
            [
             0.6666666666666666,
             "#ed7953"
            ],
            [
             0.7777777777777778,
             "#fb9f3a"
            ],
            [
             0.8888888888888888,
             "#fdca26"
            ],
            [
             1,
             "#f0f921"
            ]
           ],
           "sequentialminus": [
            [
             0,
             "#0d0887"
            ],
            [
             0.1111111111111111,
             "#46039f"
            ],
            [
             0.2222222222222222,
             "#7201a8"
            ],
            [
             0.3333333333333333,
             "#9c179e"
            ],
            [
             0.4444444444444444,
             "#bd3786"
            ],
            [
             0.5555555555555556,
             "#d8576b"
            ],
            [
             0.6666666666666666,
             "#ed7953"
            ],
            [
             0.7777777777777778,
             "#fb9f3a"
            ],
            [
             0.8888888888888888,
             "#fdca26"
            ],
            [
             1,
             "#f0f921"
            ]
           ]
          },
          "colorway": [
           "#636efa",
           "#EF553B",
           "#00cc96",
           "#ab63fa",
           "#FFA15A",
           "#19d3f3",
           "#FF6692",
           "#B6E880",
           "#FF97FF",
           "#FECB52"
          ],
          "font": {
           "color": "#2a3f5f"
          },
          "geo": {
           "bgcolor": "white",
           "lakecolor": "white",
           "landcolor": "#E5ECF6",
           "showlakes": true,
           "showland": true,
           "subunitcolor": "white"
          },
          "hoverlabel": {
           "align": "left"
          },
          "hovermode": "closest",
          "mapbox": {
           "style": "light"
          },
          "paper_bgcolor": "white",
          "plot_bgcolor": "#E5ECF6",
          "polar": {
           "angularaxis": {
            "gridcolor": "white",
            "linecolor": "white",
            "ticks": ""
           },
           "bgcolor": "#E5ECF6",
           "radialaxis": {
            "gridcolor": "white",
            "linecolor": "white",
            "ticks": ""
           }
          },
          "scene": {
           "xaxis": {
            "backgroundcolor": "#E5ECF6",
            "gridcolor": "white",
            "gridwidth": 2,
            "linecolor": "white",
            "showbackground": true,
            "ticks": "",
            "zerolinecolor": "white"
           },
           "yaxis": {
            "backgroundcolor": "#E5ECF6",
            "gridcolor": "white",
            "gridwidth": 2,
            "linecolor": "white",
            "showbackground": true,
            "ticks": "",
            "zerolinecolor": "white"
           },
           "zaxis": {
            "backgroundcolor": "#E5ECF6",
            "gridcolor": "white",
            "gridwidth": 2,
            "linecolor": "white",
            "showbackground": true,
            "ticks": "",
            "zerolinecolor": "white"
           }
          },
          "shapedefaults": {
           "line": {
            "color": "#2a3f5f"
           }
          },
          "ternary": {
           "aaxis": {
            "gridcolor": "white",
            "linecolor": "white",
            "ticks": ""
           },
           "baxis": {
            "gridcolor": "white",
            "linecolor": "white",
            "ticks": ""
           },
           "bgcolor": "#E5ECF6",
           "caxis": {
            "gridcolor": "white",
            "linecolor": "white",
            "ticks": ""
           }
          },
          "title": {
           "x": 0.05
          },
          "xaxis": {
           "automargin": true,
           "gridcolor": "white",
           "linecolor": "white",
           "ticks": "",
           "title": {
            "standoff": 15
           },
           "zerolinecolor": "white",
           "zerolinewidth": 2
          },
          "yaxis": {
           "automargin": true,
           "gridcolor": "white",
           "linecolor": "white",
           "ticks": "",
           "title": {
            "standoff": 15
           },
           "zerolinecolor": "white",
           "zerolinewidth": 2
          }
         }
        },
        "xaxis": {
         "anchor": "y",
         "domain": [
          0,
          1
         ],
         "title": {
          "text": "Order Date"
         }
        },
        "yaxis": {
         "anchor": "x",
         "domain": [
          0,
          1
         ],
         "showgrid": true,
         "tickprefix": "$",
         "title": {
          "text": "Total Owed"
         }
        }
       }
      }
     },
     "metadata": {},
     "output_type": "display_data"
    }
   ],
   "source": [
    "scattered.update_yaxes(tickprefix=\"$\", showgrid=True)"
   ]
  },
  {
   "cell_type": "code",
   "execution_count": null,
   "metadata": {},
   "outputs": [
    {
     "data": {
      "application/vnd.plotly.v1+json": {
       "config": {
        "plotlyServerURL": "https://plot.ly"
       },
       "data": [
        {
         "hovertemplate": "Order Date=%{x}<br>Total Owed=%{y}<extra></extra>",
         "legendgroup": "",
         "marker": {
          "color": "#636efa",
          "symbol": "circle"
         },
         "mode": "markers",
         "name": "",
         "orientation": "v",
         "showlegend": false,
         "type": "scatter",
         "x": [
          "2023-04-25",
          "2023-04-23",
          "2023-04-20",
          "2023-04-20",
          "2023-03-27",
          "2023-03-24",
          "2023-03-22",
          "2023-03-22",
          "2023-03-06",
          "2023-03-06",
          "2023-02-21",
          "2023-02-21",
          "2023-02-21",
          "2023-02-21",
          "2023-02-21",
          "2023-02-21",
          "2023-02-21",
          "2023-02-21",
          "2023-02-21",
          "2023-02-21",
          "2023-02-21",
          "2023-02-21",
          "2023-02-21",
          "2023-02-14",
          "2023-01-12",
          "2023-01-09",
          "2023-01-09",
          "2023-01-09",
          "2023-01-06",
          "2023-01-06",
          "2023-01-03",
          "2022-12-29",
          "2022-12-24",
          "2022-12-13",
          "2022-12-13",
          "2022-12-12",
          "2022-12-08",
          "2022-12-08",
          "2022-12-08",
          "2022-12-08",
          "2022-12-08",
          "2022-12-08",
          "2022-12-08",
          "2022-12-08",
          "2022-12-08",
          "2022-12-08",
          "2022-12-08",
          "2022-12-08",
          "2022-12-01",
          "2022-12-01",
          "2022-12-01",
          "2022-12-01",
          "2022-12-01",
          "2022-11-29",
          "2022-11-29",
          "2022-11-29",
          "2022-11-28",
          "2022-11-26",
          "2022-11-26",
          "2022-11-26",
          "2022-11-07",
          "2022-11-07",
          "2022-11-07",
          "2022-11-07",
          "2022-11-07",
          "2022-11-07",
          "2022-11-07",
          "2022-11-07",
          "2022-10-31",
          "2022-10-31",
          "2022-10-31",
          "2022-10-31",
          "2022-10-20",
          "2022-09-25",
          "2022-09-01",
          "2022-08-30",
          "2022-08-30",
          "2022-08-30",
          "2022-08-30",
          "2022-08-25",
          "2022-08-23",
          "2022-05-24",
          "2022-05-20",
          "2022-05-20",
          "2022-04-29",
          "2022-04-29",
          "2022-04-29",
          "2022-04-29",
          "2022-04-05",
          "2022-03-18",
          "2022-02-17",
          "2022-02-17",
          "2022-01-31",
          "2022-01-16",
          "2022-01-16",
          "2022-01-11",
          "2022-01-03",
          "2022-01-03",
          "2021-12-13",
          "2021-11-29",
          "2021-11-15",
          "2021-11-03",
          "2021-11-03",
          "2021-11-02",
          "2021-10-19",
          "2021-10-19",
          "2021-10-19",
          "2021-10-19",
          "2021-10-19",
          "2021-10-03",
          "2021-10-03",
          "2021-10-03",
          "2021-09-21",
          "2021-09-21",
          "2021-09-11",
          "2021-09-10",
          "2021-09-10",
          "2021-09-10",
          "2021-09-10",
          "2021-09-10",
          "2021-09-10",
          "2021-09-10",
          "2021-09-10",
          "2021-09-10",
          "2021-09-06",
          "2021-09-01",
          "2021-09-01",
          "2021-08-26",
          "2021-08-21",
          "2021-07-11",
          "2021-07-09",
          "2021-07-09",
          "2021-07-07",
          "2021-07-07",
          "2021-07-07",
          "2021-04-25",
          "2021-02-07",
          "2021-02-01",
          "2021-01-20",
          "2021-01-07",
          "2021-01-07",
          "2021-01-03",
          "2020-12-28",
          "2020-12-19",
          "2020-12-19",
          "2020-12-19",
          "2020-12-17",
          "2020-12-17",
          "2020-12-15",
          "2020-12-09",
          "2020-12-09",
          "2020-12-09",
          "2020-12-01",
          "2020-12-01",
          "2020-12-01",
          "2020-12-01",
          "2020-11-30",
          "2020-11-28",
          "2020-11-15",
          "2020-11-02",
          "2020-09-20",
          "2020-09-20",
          "2020-09-20",
          "2020-09-20",
          "2020-08-23",
          "2020-08-23",
          "2020-08-23",
          "2020-08-13",
          "2020-08-13",
          "2020-08-09",
          "2020-08-09",
          "2020-08-09",
          "2020-08-09",
          "2020-07-02",
          "2020-07-01",
          "2020-07-01",
          "2020-06-23",
          "2020-05-22",
          "2020-05-22",
          "2020-05-13",
          "2020-05-13",
          "2020-05-03",
          "2020-05-03",
          "2020-05-03",
          "2020-04-28",
          "2020-04-28",
          "2020-04-21",
          "2020-04-21",
          "2020-03-14",
          "2020-03-14",
          "2020-03-14",
          "2020-03-14",
          "2020-03-14",
          "2020-02-10",
          "2020-02-05",
          "2020-02-05",
          "2020-02-05",
          "2020-02-04",
          "2020-02-04",
          "2020-02-04",
          "2020-02-04",
          "2020-01-21",
          "2020-01-21",
          "2020-01-21",
          "2020-01-20",
          "2020-01-20",
          "2020-01-20",
          "2020-01-20",
          "2020-01-20",
          "2020-01-20",
          "2019-12-15",
          "2019-12-05",
          "2019-12-05",
          "2019-12-02",
          "2019-11-24"
         ],
         "xaxis": "x",
         "y": [
          21.11,
          74.5,
          13.84,
          23.93,
          19.57,
          129.95,
          12.95,
          22.8,
          11.95,
          17.93,
          2.79,
          5.99,
          5.99,
          1.59,
          5.49,
          0,
          6.79,
          5.49,
          11.99,
          4.99,
          6.39,
          4.49,
          27.79,
          34.72,
          20.22,
          10.41,
          15.64,
          54.31,
          10.84,
          22.85,
          26.12,
          25.1,
          30,
          13.04,
          22.84,
          215.68,
          7.28,
          25.35,
          25.66,
          19.59,
          47.84,
          13.04,
          17.06,
          6.54,
          28.04,
          8.73,
          10.37,
          8.73,
          20.75,
          10.37,
          16.38,
          10.91,
          26.51,
          15.28,
          14.19,
          16.36,
          27.2,
          27.3,
          20.44,
          22.09,
          12.13,
          18.52,
          13.49,
          15.82,
          15.27,
          16.36,
          23.93,
          20.35,
          29.39,
          8.07,
          11.97,
          21.76,
          17.94,
          35.92,
          3.59,
          12.22,
          16.19,
          0,
          14.67,
          22.84,
          56.6,
          12.97,
          13.08,
          14.18,
          36.45,
          30.02,
          6.42,
          7.5,
          16.06,
          258.01,
          15.36,
          24.78,
          16.6,
          14.2,
          5.31,
          21.73,
          30.53,
          18.96,
          25.87,
          50,
          11.75,
          19.88,
          10.1,
          50,
          18.56,
          22.93,
          10.91,
          12.98,
          12.01,
          6.85,
          10.71,
          16.08,
          14.06,
          11.54,
          22.5,
          7.99,
          3.49,
          4.49,
          5.99,
          1.77,
          3.29,
          5.99,
          5.29,
          3.29,
          19.91,
          17.13,
          27.86,
          19.64,
          20.06,
          36.84,
          32.16,
          31.09,
          6.42,
          13.93,
          16.08,
          27.06,
          33.22,
          20,
          16.28,
          39.13,
          24.12,
          21.73,
          17.41,
          26.81,
          10.91,
          32.76,
          14.36,
          14.19,
          27.56,
          19.65,
          26.16,
          43.69,
          47.97,
          21.84,
          24.02,
          18.54,
          13.08,
          25.5,
          21.82,
          33.22,
          24.66,
          3.21,
          0,
          0,
          15.99,
          9.97,
          9.64,
          21.7,
          13.92,
          13.87,
          24.55,
          8.04,
          30.6,
          19.14,
          21.82,
          16.67,
          31.23,
          15.22,
          17.97,
          18.92,
          0,
          16.99,
          17.99,
          22.99,
          6.99,
          43.69,
          8.73,
          9.82,
          35,
          17.94,
          7.57,
          12.58,
          34.28,
          16.07,
          20,
          20.07,
          64.04,
          13.93,
          3.2,
          3.21,
          3.21,
          9.99,
          9.99,
          25.95,
          22.85,
          7.99,
          0,
          0,
          6.99,
          20.9,
          5.98,
          12.54,
          21.78,
          16.68,
          18.2
         ],
         "yaxis": "y"
        }
       ],
       "layout": {
        "legend": {
         "tracegroupgap": 0
        },
        "margin": {
         "t": 60
        },
        "shapes": [
         {
          "line": {
           "color": "orange",
           "dash": "dot",
           "width": 2
          },
          "opacity": 1,
          "type": "line",
          "x0": 0,
          "x1": 1,
          "xref": "paper",
          "y0": 20.562837209302327,
          "y1": 20.562837209302327,
          "yref": "y"
         },
         {
          "line": {
           "color": "orange",
           "dash": "dot",
           "width": 2
          },
          "opacity": 1,
          "type": "line",
          "x0": 0,
          "x1": 1,
          "xref": "paper",
          "y0": 20.562837209302327,
          "y1": 20.562837209302327,
          "yref": "y"
         }
        ],
        "template": {
         "data": {
          "bar": [
           {
            "error_x": {
             "color": "#2a3f5f"
            },
            "error_y": {
             "color": "#2a3f5f"
            },
            "marker": {
             "line": {
              "color": "#E5ECF6",
              "width": 0.5
             },
             "pattern": {
              "fillmode": "overlay",
              "size": 10,
              "solidity": 0.2
             }
            },
            "type": "bar"
           }
          ],
          "barpolar": [
           {
            "marker": {
             "line": {
              "color": "#E5ECF6",
              "width": 0.5
             },
             "pattern": {
              "fillmode": "overlay",
              "size": 10,
              "solidity": 0.2
             }
            },
            "type": "barpolar"
           }
          ],
          "carpet": [
           {
            "aaxis": {
             "endlinecolor": "#2a3f5f",
             "gridcolor": "white",
             "linecolor": "white",
             "minorgridcolor": "white",
             "startlinecolor": "#2a3f5f"
            },
            "baxis": {
             "endlinecolor": "#2a3f5f",
             "gridcolor": "white",
             "linecolor": "white",
             "minorgridcolor": "white",
             "startlinecolor": "#2a3f5f"
            },
            "type": "carpet"
           }
          ],
          "choropleth": [
           {
            "colorbar": {
             "outlinewidth": 0,
             "ticks": ""
            },
            "type": "choropleth"
           }
          ],
          "contour": [
           {
            "colorbar": {
             "outlinewidth": 0,
             "ticks": ""
            },
            "colorscale": [
             [
              0,
              "#0d0887"
             ],
             [
              0.1111111111111111,
              "#46039f"
             ],
             [
              0.2222222222222222,
              "#7201a8"
             ],
             [
              0.3333333333333333,
              "#9c179e"
             ],
             [
              0.4444444444444444,
              "#bd3786"
             ],
             [
              0.5555555555555556,
              "#d8576b"
             ],
             [
              0.6666666666666666,
              "#ed7953"
             ],
             [
              0.7777777777777778,
              "#fb9f3a"
             ],
             [
              0.8888888888888888,
              "#fdca26"
             ],
             [
              1,
              "#f0f921"
             ]
            ],
            "type": "contour"
           }
          ],
          "contourcarpet": [
           {
            "colorbar": {
             "outlinewidth": 0,
             "ticks": ""
            },
            "type": "contourcarpet"
           }
          ],
          "heatmap": [
           {
            "colorbar": {
             "outlinewidth": 0,
             "ticks": ""
            },
            "colorscale": [
             [
              0,
              "#0d0887"
             ],
             [
              0.1111111111111111,
              "#46039f"
             ],
             [
              0.2222222222222222,
              "#7201a8"
             ],
             [
              0.3333333333333333,
              "#9c179e"
             ],
             [
              0.4444444444444444,
              "#bd3786"
             ],
             [
              0.5555555555555556,
              "#d8576b"
             ],
             [
              0.6666666666666666,
              "#ed7953"
             ],
             [
              0.7777777777777778,
              "#fb9f3a"
             ],
             [
              0.8888888888888888,
              "#fdca26"
             ],
             [
              1,
              "#f0f921"
             ]
            ],
            "type": "heatmap"
           }
          ],
          "heatmapgl": [
           {
            "colorbar": {
             "outlinewidth": 0,
             "ticks": ""
            },
            "colorscale": [
             [
              0,
              "#0d0887"
             ],
             [
              0.1111111111111111,
              "#46039f"
             ],
             [
              0.2222222222222222,
              "#7201a8"
             ],
             [
              0.3333333333333333,
              "#9c179e"
             ],
             [
              0.4444444444444444,
              "#bd3786"
             ],
             [
              0.5555555555555556,
              "#d8576b"
             ],
             [
              0.6666666666666666,
              "#ed7953"
             ],
             [
              0.7777777777777778,
              "#fb9f3a"
             ],
             [
              0.8888888888888888,
              "#fdca26"
             ],
             [
              1,
              "#f0f921"
             ]
            ],
            "type": "heatmapgl"
           }
          ],
          "histogram": [
           {
            "marker": {
             "pattern": {
              "fillmode": "overlay",
              "size": 10,
              "solidity": 0.2
             }
            },
            "type": "histogram"
           }
          ],
          "histogram2d": [
           {
            "colorbar": {
             "outlinewidth": 0,
             "ticks": ""
            },
            "colorscale": [
             [
              0,
              "#0d0887"
             ],
             [
              0.1111111111111111,
              "#46039f"
             ],
             [
              0.2222222222222222,
              "#7201a8"
             ],
             [
              0.3333333333333333,
              "#9c179e"
             ],
             [
              0.4444444444444444,
              "#bd3786"
             ],
             [
              0.5555555555555556,
              "#d8576b"
             ],
             [
              0.6666666666666666,
              "#ed7953"
             ],
             [
              0.7777777777777778,
              "#fb9f3a"
             ],
             [
              0.8888888888888888,
              "#fdca26"
             ],
             [
              1,
              "#f0f921"
             ]
            ],
            "type": "histogram2d"
           }
          ],
          "histogram2dcontour": [
           {
            "colorbar": {
             "outlinewidth": 0,
             "ticks": ""
            },
            "colorscale": [
             [
              0,
              "#0d0887"
             ],
             [
              0.1111111111111111,
              "#46039f"
             ],
             [
              0.2222222222222222,
              "#7201a8"
             ],
             [
              0.3333333333333333,
              "#9c179e"
             ],
             [
              0.4444444444444444,
              "#bd3786"
             ],
             [
              0.5555555555555556,
              "#d8576b"
             ],
             [
              0.6666666666666666,
              "#ed7953"
             ],
             [
              0.7777777777777778,
              "#fb9f3a"
             ],
             [
              0.8888888888888888,
              "#fdca26"
             ],
             [
              1,
              "#f0f921"
             ]
            ],
            "type": "histogram2dcontour"
           }
          ],
          "mesh3d": [
           {
            "colorbar": {
             "outlinewidth": 0,
             "ticks": ""
            },
            "type": "mesh3d"
           }
          ],
          "parcoords": [
           {
            "line": {
             "colorbar": {
              "outlinewidth": 0,
              "ticks": ""
             }
            },
            "type": "parcoords"
           }
          ],
          "pie": [
           {
            "automargin": true,
            "type": "pie"
           }
          ],
          "scatter": [
           {
            "fillpattern": {
             "fillmode": "overlay",
             "size": 10,
             "solidity": 0.2
            },
            "type": "scatter"
           }
          ],
          "scatter3d": [
           {
            "line": {
             "colorbar": {
              "outlinewidth": 0,
              "ticks": ""
             }
            },
            "marker": {
             "colorbar": {
              "outlinewidth": 0,
              "ticks": ""
             }
            },
            "type": "scatter3d"
           }
          ],
          "scattercarpet": [
           {
            "marker": {
             "colorbar": {
              "outlinewidth": 0,
              "ticks": ""
             }
            },
            "type": "scattercarpet"
           }
          ],
          "scattergeo": [
           {
            "marker": {
             "colorbar": {
              "outlinewidth": 0,
              "ticks": ""
             }
            },
            "type": "scattergeo"
           }
          ],
          "scattergl": [
           {
            "marker": {
             "colorbar": {
              "outlinewidth": 0,
              "ticks": ""
             }
            },
            "type": "scattergl"
           }
          ],
          "scattermapbox": [
           {
            "marker": {
             "colorbar": {
              "outlinewidth": 0,
              "ticks": ""
             }
            },
            "type": "scattermapbox"
           }
          ],
          "scatterpolar": [
           {
            "marker": {
             "colorbar": {
              "outlinewidth": 0,
              "ticks": ""
             }
            },
            "type": "scatterpolar"
           }
          ],
          "scatterpolargl": [
           {
            "marker": {
             "colorbar": {
              "outlinewidth": 0,
              "ticks": ""
             }
            },
            "type": "scatterpolargl"
           }
          ],
          "scatterternary": [
           {
            "marker": {
             "colorbar": {
              "outlinewidth": 0,
              "ticks": ""
             }
            },
            "type": "scatterternary"
           }
          ],
          "surface": [
           {
            "colorbar": {
             "outlinewidth": 0,
             "ticks": ""
            },
            "colorscale": [
             [
              0,
              "#0d0887"
             ],
             [
              0.1111111111111111,
              "#46039f"
             ],
             [
              0.2222222222222222,
              "#7201a8"
             ],
             [
              0.3333333333333333,
              "#9c179e"
             ],
             [
              0.4444444444444444,
              "#bd3786"
             ],
             [
              0.5555555555555556,
              "#d8576b"
             ],
             [
              0.6666666666666666,
              "#ed7953"
             ],
             [
              0.7777777777777778,
              "#fb9f3a"
             ],
             [
              0.8888888888888888,
              "#fdca26"
             ],
             [
              1,
              "#f0f921"
             ]
            ],
            "type": "surface"
           }
          ],
          "table": [
           {
            "cells": {
             "fill": {
              "color": "#EBF0F8"
             },
             "line": {
              "color": "white"
             }
            },
            "header": {
             "fill": {
              "color": "#C8D4E3"
             },
             "line": {
              "color": "white"
             }
            },
            "type": "table"
           }
          ]
         },
         "layout": {
          "annotationdefaults": {
           "arrowcolor": "#2a3f5f",
           "arrowhead": 0,
           "arrowwidth": 1
          },
          "autotypenumbers": "strict",
          "coloraxis": {
           "colorbar": {
            "outlinewidth": 0,
            "ticks": ""
           }
          },
          "colorscale": {
           "diverging": [
            [
             0,
             "#8e0152"
            ],
            [
             0.1,
             "#c51b7d"
            ],
            [
             0.2,
             "#de77ae"
            ],
            [
             0.3,
             "#f1b6da"
            ],
            [
             0.4,
             "#fde0ef"
            ],
            [
             0.5,
             "#f7f7f7"
            ],
            [
             0.6,
             "#e6f5d0"
            ],
            [
             0.7,
             "#b8e186"
            ],
            [
             0.8,
             "#7fbc41"
            ],
            [
             0.9,
             "#4d9221"
            ],
            [
             1,
             "#276419"
            ]
           ],
           "sequential": [
            [
             0,
             "#0d0887"
            ],
            [
             0.1111111111111111,
             "#46039f"
            ],
            [
             0.2222222222222222,
             "#7201a8"
            ],
            [
             0.3333333333333333,
             "#9c179e"
            ],
            [
             0.4444444444444444,
             "#bd3786"
            ],
            [
             0.5555555555555556,
             "#d8576b"
            ],
            [
             0.6666666666666666,
             "#ed7953"
            ],
            [
             0.7777777777777778,
             "#fb9f3a"
            ],
            [
             0.8888888888888888,
             "#fdca26"
            ],
            [
             1,
             "#f0f921"
            ]
           ],
           "sequentialminus": [
            [
             0,
             "#0d0887"
            ],
            [
             0.1111111111111111,
             "#46039f"
            ],
            [
             0.2222222222222222,
             "#7201a8"
            ],
            [
             0.3333333333333333,
             "#9c179e"
            ],
            [
             0.4444444444444444,
             "#bd3786"
            ],
            [
             0.5555555555555556,
             "#d8576b"
            ],
            [
             0.6666666666666666,
             "#ed7953"
            ],
            [
             0.7777777777777778,
             "#fb9f3a"
            ],
            [
             0.8888888888888888,
             "#fdca26"
            ],
            [
             1,
             "#f0f921"
            ]
           ]
          },
          "colorway": [
           "#636efa",
           "#EF553B",
           "#00cc96",
           "#ab63fa",
           "#FFA15A",
           "#19d3f3",
           "#FF6692",
           "#B6E880",
           "#FF97FF",
           "#FECB52"
          ],
          "font": {
           "color": "#2a3f5f"
          },
          "geo": {
           "bgcolor": "white",
           "lakecolor": "white",
           "landcolor": "#E5ECF6",
           "showlakes": true,
           "showland": true,
           "subunitcolor": "white"
          },
          "hoverlabel": {
           "align": "left"
          },
          "hovermode": "closest",
          "mapbox": {
           "style": "light"
          },
          "paper_bgcolor": "white",
          "plot_bgcolor": "#E5ECF6",
          "polar": {
           "angularaxis": {
            "gridcolor": "white",
            "linecolor": "white",
            "ticks": ""
           },
           "bgcolor": "#E5ECF6",
           "radialaxis": {
            "gridcolor": "white",
            "linecolor": "white",
            "ticks": ""
           }
          },
          "scene": {
           "xaxis": {
            "backgroundcolor": "#E5ECF6",
            "gridcolor": "white",
            "gridwidth": 2,
            "linecolor": "white",
            "showbackground": true,
            "ticks": "",
            "zerolinecolor": "white"
           },
           "yaxis": {
            "backgroundcolor": "#E5ECF6",
            "gridcolor": "white",
            "gridwidth": 2,
            "linecolor": "white",
            "showbackground": true,
            "ticks": "",
            "zerolinecolor": "white"
           },
           "zaxis": {
            "backgroundcolor": "#E5ECF6",
            "gridcolor": "white",
            "gridwidth": 2,
            "linecolor": "white",
            "showbackground": true,
            "ticks": "",
            "zerolinecolor": "white"
           }
          },
          "shapedefaults": {
           "line": {
            "color": "#2a3f5f"
           }
          },
          "ternary": {
           "aaxis": {
            "gridcolor": "white",
            "linecolor": "white",
            "ticks": ""
           },
           "baxis": {
            "gridcolor": "white",
            "linecolor": "white",
            "ticks": ""
           },
           "bgcolor": "#E5ECF6",
           "caxis": {
            "gridcolor": "white",
            "linecolor": "white",
            "ticks": ""
           }
          },
          "title": {
           "x": 0.05
          },
          "xaxis": {
           "automargin": true,
           "gridcolor": "white",
           "linecolor": "white",
           "ticks": "",
           "title": {
            "standoff": 15
           },
           "zerolinecolor": "white",
           "zerolinewidth": 2
          },
          "yaxis": {
           "automargin": true,
           "gridcolor": "white",
           "linecolor": "white",
           "ticks": "",
           "title": {
            "standoff": 15
           },
           "zerolinecolor": "white",
           "zerolinewidth": 2
          }
         }
        },
        "xaxis": {
         "anchor": "y",
         "domain": [
          0,
          1
         ],
         "title": {
          "text": "Order Date"
         }
        },
        "yaxis": {
         "anchor": "x",
         "domain": [
          0,
          1
         ],
         "showgrid": true,
         "tickprefix": "$",
         "title": {
          "text": "Total Owed"
         }
        }
       }
      }
     },
     "metadata": {},
     "output_type": "display_data"
    }
   ],
   "source": [
    "scattered.add_shape(type=\"line\", line_color=\"orange\", line_width=2, opacity=1, line_dash=\"dot\", x0=0, x1=1, xref=\"paper\", y0=df['Total Owed'].mean(), y1=df['Total Owed'].mean(), yref=\"y\")"
   ]
  },
  {
   "cell_type": "code",
   "execution_count": null,
   "metadata": {},
   "outputs": [],
   "source": []
  }
 ],
 "metadata": {
  "kernelspec": {
   "display_name": "Python 3 (ipykernel)",
   "language": "python",
   "name": "python3"
  },
  "language_info": {
   "codemirror_mode": {
    "name": "ipython",
    "version": 3
   },
   "file_extension": ".py",
   "mimetype": "text/x-python",
   "name": "python",
   "nbconvert_exporter": "python",
   "pygments_lexer": "ipython3",
   "version": "3.10.8"
  }
 },
 "nbformat": 4,
 "nbformat_minor": 2
}
