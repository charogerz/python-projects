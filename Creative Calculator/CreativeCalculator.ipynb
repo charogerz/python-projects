{
 "cells": [
  {
   "attachments": {},
   "cell_type": "markdown",
   "metadata": {},
   "source": [
    "A calculator is defined as the following: \n",
    "\n",
    "\"something used for making mathematical calculations, in particular a small electronic device with a keyboard and a visual display.\" \n",
    "\n",
    "\n",
    "Create a creative calculator of your choice where _something_ is being calculated (it must perform some sort of operation). Feel free to get creative with it. Your calculator can be also be literal. Your calculator calculator must include the following: \n",
    "\n",
    "* an input box \n",
    "* a function \n",
    "\n",
    "Some examples of things to calculate: \n",
    "\n",
    "* adding strings \n",
    "* create your own version of verbal arithmetic (https://en.wikipedia.org/wiki/Verbal_arithmetic) \n",
    "* how many times \"I\" is mentioned in a paragraph \n",
    "* add more operations to the calculator like REMAINDER (%) or POWER (**) \n",
    "\n",
    "Refer to the sample code below to get started. \n"
   ]
  },
  {
   "cell_type": "code",
   "execution_count": 1,
   "metadata": {},
   "outputs": [],
   "source": [
    "def calculator():\n",
    "\n",
    "    operation = input('''\n",
    "        WELCOME to the Color Calc!\n",
    "        Please type in the math operation you would like to complete:\n",
    "        [+] for mixing primary colors\n",
    "        [-] for subtracting primary from secondary colors\n",
    "        ''')\n",
    "    \n",
    "    # Prompt the user to input two colors\n",
    "    color_1 = input('Please enter the first color (primary for addition, secondary for subtraction): ')\n",
    "    color_2 = input('Please enter a different primary color: ')\n",
    "\n",
    "    def invalid():\n",
    "        print('''\\nWhoops! Looks like something\\'s wrong. \n",
    "        \\nPrimary colors are red, blue, and yellow. \n",
    "        \\nSecondary colors are purple, green, and orange. \n",
    "        \\nTry not to repeat colors.\n",
    "        \\nTry again!\n",
    "''')\n",
    "    \n",
    "    # Conditional statement:\n",
    "    # If the user entered '+', perform an addition\n",
    "    if operation == '+':\n",
    "        print(color_1, '+', color_2, '=')\n",
    "        if color_1 == 'red' and color_2 == 'yellow' or color_1 == 'yellow' and color_2 == 'red':\n",
    "            print('orange')\n",
    "        elif color_1 == 'red' and color_2 == 'blue' or color_1 == 'blue' and color_2 == 'red':\n",
    "            print('purple')\n",
    "        elif color_1 == 'yellow' and color_2 == 'blue' or color_1 == 'blue' and color_2 == 'yellow':\n",
    "            print('green')\n",
    "        else:\n",
    "            invalid()\n",
    "\n",
    "    # Else if the user entered '-', perform a substraction\n",
    "    elif operation == '-':\n",
    "        print(color_1, '-', color_2, '=')\n",
    "        if color_1 == 'purple' and color_2 == 'red' or color_1 == 'green' and color_2 == 'yellow':\n",
    "            print('blue')\n",
    "        elif color_1 == 'purple' and color_2 == 'blue' or color_1 == 'orange' and color_2 == 'yellow':\n",
    "            print('red')\n",
    "        elif color_1 == 'green' and color_2 == 'blue' or color_1 == 'orange' and color_2 == 'red':\n",
    "            print('yellow')\n",
    "        else:\n",
    "            invalid()\n",
    "    \n",
    "    # Else notify the user of error using invalid()\n",
    "    else:\n",
    "        invalid()        "
   ]
  },
  {
   "cell_type": "code",
   "execution_count": null,
   "metadata": {},
   "outputs": [],
   "source": [
    "calculator()"
   ]
  },
  {
   "cell_type": "code",
   "execution_count": null,
   "metadata": {},
   "outputs": [],
   "source": []
  }
 ],
 "metadata": {
  "kernelspec": {
   "display_name": "Python 3 (ipykernel)",
   "language": "python",
   "name": "python3"
  },
  "language_info": {
   "codemirror_mode": {
    "name": "ipython",
    "version": 3
   },
   "file_extension": ".py",
   "mimetype": "text/x-python",
   "name": "python",
   "nbconvert_exporter": "python",
   "pygments_lexer": "ipython3",
   "version": "3.9.13"
  },
  "vscode": {
   "interpreter": {
    "hash": "8f3a7e663eb92fa8517cce64c292d61a61e982bac11ccc283304d602fefb4d22"
   }
  }
 },
 "nbformat": 4,
 "nbformat_minor": 2
}
